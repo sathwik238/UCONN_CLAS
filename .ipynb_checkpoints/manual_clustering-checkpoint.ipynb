{
 "cells": [
  {
   "cell_type": "code",
   "execution_count": 3,
   "id": "5fd68d23-7c95-47e1-8dba-2b5609191b37",
   "metadata": {
    "tags": []
   },
   "outputs": [
    {
     "name": "stdout",
     "output_type": "stream",
     "text": [
      "Collecting seaborn\n",
      "  Using cached seaborn-0.13.2-py3-none-any.whl.metadata (5.4 kB)\n",
      "Requirement already satisfied: numpy!=1.24.0,>=1.20 in /opt/conda/lib/python3.11/site-packages (from seaborn) (1.26.4)\n",
      "Requirement already satisfied: pandas>=1.2 in /opt/conda/lib/python3.11/site-packages (from seaborn) (2.2.2)\n",
      "Requirement already satisfied: matplotlib!=3.6.1,>=3.4 in /opt/conda/lib/python3.11/site-packages (from seaborn) (3.8.4)\n",
      "Requirement already satisfied: contourpy>=1.0.1 in /opt/conda/lib/python3.11/site-packages (from matplotlib!=3.6.1,>=3.4->seaborn) (1.2.1)\n",
      "Requirement already satisfied: cycler>=0.10 in /opt/conda/lib/python3.11/site-packages (from matplotlib!=3.6.1,>=3.4->seaborn) (0.12.1)\n",
      "Requirement already satisfied: fonttools>=4.22.0 in /opt/conda/lib/python3.11/site-packages (from matplotlib!=3.6.1,>=3.4->seaborn) (4.53.0)\n",
      "Requirement already satisfied: kiwisolver>=1.3.1 in /opt/conda/lib/python3.11/site-packages (from matplotlib!=3.6.1,>=3.4->seaborn) (1.4.5)\n",
      "Requirement already satisfied: packaging>=20.0 in /opt/conda/lib/python3.11/site-packages (from matplotlib!=3.6.1,>=3.4->seaborn) (23.2)\n",
      "Requirement already satisfied: pillow>=8 in /opt/conda/lib/python3.11/site-packages (from matplotlib!=3.6.1,>=3.4->seaborn) (10.3.0)\n",
      "Requirement already satisfied: pyparsing>=2.3.1 in /opt/conda/lib/python3.11/site-packages (from matplotlib!=3.6.1,>=3.4->seaborn) (3.1.2)\n",
      "Requirement already satisfied: python-dateutil>=2.7 in /opt/conda/lib/python3.11/site-packages (from matplotlib!=3.6.1,>=3.4->seaborn) (2.9.0)\n",
      "Requirement already satisfied: pytz>=2020.1 in /opt/conda/lib/python3.11/site-packages (from pandas>=1.2->seaborn) (2024.1)\n",
      "Requirement already satisfied: tzdata>=2022.7 in /opt/conda/lib/python3.11/site-packages (from pandas>=1.2->seaborn) (2024.1)\n",
      "Requirement already satisfied: six>=1.5 in /opt/conda/lib/python3.11/site-packages (from python-dateutil>=2.7->matplotlib!=3.6.1,>=3.4->seaborn) (1.16.0)\n",
      "Using cached seaborn-0.13.2-py3-none-any.whl (294 kB)\n",
      "Installing collected packages: seaborn\n",
      "Successfully installed seaborn-0.13.2\n",
      "\u001b[33mWARNING: Running pip as the 'root' user can result in broken permissions and conflicting behaviour with the system package manager. It is recommended to use a virtual environment instead: https://pip.pypa.io/warnings/venv\u001b[0m\u001b[33m\n",
      "\u001b[0m"
     ]
    }
   ],
   "source": [
    "import numpy as np\n",
    "import pandas as pd\n",
    "import matplotlib.pyplot as plt\n",
    "\n",
    "\n",
    "! pip install seaborn\n",
    "import seaborn as sns\n",
    "\n"
   ]
  },
  {
   "cell_type": "code",
   "execution_count": 4,
   "id": "b0397e76-a8f0-48cd-8871-2412f729d253",
   "metadata": {
    "tags": []
   },
   "outputs": [
    {
     "data": {
      "text/html": [
       "<div>\n",
       "<style scoped>\n",
       "    .dataframe tbody tr th:only-of-type {\n",
       "        vertical-align: middle;\n",
       "    }\n",
       "\n",
       "    .dataframe tbody tr th {\n",
       "        vertical-align: top;\n",
       "    }\n",
       "\n",
       "    .dataframe thead th {\n",
       "        text-align: right;\n",
       "    }\n",
       "</style>\n",
       "<table border=\"1\" class=\"dataframe\">\n",
       "  <thead>\n",
       "    <tr style=\"text-align: right;\">\n",
       "      <th></th>\n",
       "      <th>ID</th>\n",
       "      <th>X1</th>\n",
       "      <th>X2</th>\n",
       "      <th>X3</th>\n",
       "      <th>Z1</th>\n",
       "      <th>Z2</th>\n",
       "      <th>A</th>\n",
       "      <th>B</th>\n",
       "      <th>Y</th>\n",
       "    </tr>\n",
       "  </thead>\n",
       "  <tbody>\n",
       "    <tr>\n",
       "      <th>0</th>\n",
       "      <td>1001</td>\n",
       "      <td>6.44</td>\n",
       "      <td>2.0</td>\n",
       "      <td>1.00</td>\n",
       "      <td>5</td>\n",
       "      <td>16.0</td>\n",
       "      <td>738</td>\n",
       "      <td>0.0</td>\n",
       "      <td>11.0</td>\n",
       "    </tr>\n",
       "    <tr>\n",
       "      <th>1</th>\n",
       "      <td>1002</td>\n",
       "      <td>0.00</td>\n",
       "      <td>0.0</td>\n",
       "      <td>0.00</td>\n",
       "      <td>4</td>\n",
       "      <td>2.0</td>\n",
       "      <td>315</td>\n",
       "      <td>0.0</td>\n",
       "      <td>0.0</td>\n",
       "    </tr>\n",
       "    <tr>\n",
       "      <th>2</th>\n",
       "      <td>1003</td>\n",
       "      <td>18.50</td>\n",
       "      <td>3.0</td>\n",
       "      <td>2.50</td>\n",
       "      <td>108</td>\n",
       "      <td>64.0</td>\n",
       "      <td>11415</td>\n",
       "      <td>205302.1</td>\n",
       "      <td>21.0</td>\n",
       "    </tr>\n",
       "    <tr>\n",
       "      <th>3</th>\n",
       "      <td>1004</td>\n",
       "      <td>4.32</td>\n",
       "      <td>1.0</td>\n",
       "      <td>0.50</td>\n",
       "      <td>0</td>\n",
       "      <td>6.0</td>\n",
       "      <td>561</td>\n",
       "      <td>0.0</td>\n",
       "      <td>7.0</td>\n",
       "    </tr>\n",
       "    <tr>\n",
       "      <th>4</th>\n",
       "      <td>1005</td>\n",
       "      <td>0.00</td>\n",
       "      <td>0.0</td>\n",
       "      <td>7.16</td>\n",
       "      <td>890</td>\n",
       "      <td>55.0</td>\n",
       "      <td>0</td>\n",
       "      <td>0.0</td>\n",
       "      <td>0.0</td>\n",
       "    </tr>\n",
       "  </tbody>\n",
       "</table>\n",
       "</div>"
      ],
      "text/plain": [
       "     ID     X1   X2    X3   Z1    Z2      A         B     Y\n",
       "0  1001   6.44  2.0  1.00    5  16.0    738       0.0  11.0\n",
       "1  1002   0.00  0.0  0.00    4   2.0    315       0.0   0.0\n",
       "2  1003  18.50  3.0  2.50  108  64.0  11415  205302.1  21.0\n",
       "3  1004   4.32  1.0  0.50    0   6.0    561       0.0   7.0\n",
       "4  1005   0.00  0.0  7.16  890  55.0      0       0.0   0.0"
      ]
     },
     "execution_count": 4,
     "metadata": {},
     "output_type": "execute_result"
    }
   ],
   "source": [
    "data =  pd.read_excel('data/Data.xlsx')\n",
    "data.head()"
   ]
  },
  {
   "cell_type": "code",
   "execution_count": 5,
   "id": "b32e4759-af03-4e16-a0b6-1a3df8d83f69",
   "metadata": {
    "tags": []
   },
   "outputs": [
    {
     "data": {
      "text/plain": [
       "(30, 9)"
      ]
     },
     "execution_count": 5,
     "metadata": {},
     "output_type": "execute_result"
    }
   ],
   "source": [
    "data_without_0 = data[data['Y'] != 0]\n",
    "data_without_0.shape"
   ]
  },
  {
   "cell_type": "code",
   "execution_count": 6,
   "id": "33a0db56-04ef-4dc2-badd-b4ecc489d141",
   "metadata": {
    "tags": []
   },
   "outputs": [],
   "source": [
    "X = data_without_0.drop('Y',axis=1).reset_index(drop=True)\n",
    "X.drop('ID',axis=1,inplace=True)\n",
    "y = data_without_0['Y'].reset_index(drop = True)\n"
   ]
  },
  {
   "cell_type": "code",
   "execution_count": 7,
   "id": "2826318e-76c0-4335-a846-2240ebc9f1d0",
   "metadata": {
    "tags": []
   },
   "outputs": [],
   "source": [
    "X.fillna(X.mean(),inplace=True)"
   ]
  },
  {
   "cell_type": "code",
   "execution_count": 8,
   "id": "4dbf1d99-a992-47bd-8c30-889e104fbf99",
   "metadata": {
    "tags": []
   },
   "outputs": [],
   "source": [
    "features =  list(X.columns)"
   ]
  },
  {
   "cell_type": "code",
   "execution_count": null,
   "id": "59b7334e-0372-49a6-b9ed-d103ff7d5614",
   "metadata": {},
   "outputs": [],
   "source": []
  },
  {
   "cell_type": "markdown",
   "id": "d084d878-4ca2-43df-ad5a-c3d297ab719b",
   "metadata": {},
   "source": [
    "# Using 2 Principal Components"
   ]
  },
  {
   "cell_type": "markdown",
   "id": "de78cf0b-e0c2-4d3c-b80f-e37ac9e67811",
   "metadata": {},
   "source": [
    " Steps:\n",
    "1. Scale the data\n",
    "2. INitialize random centroids\n",
    "3. Label each data point\n",
    "4. Update Centroids\n",
    "5. Repeat Steps 3 and 4 until centroid stop changing"
   ]
  },
  {
   "cell_type": "markdown",
   "id": "dbf7a764-996a-4244-8935-56a891c780fb",
   "metadata": {},
   "source": [
    "## Scaling using MIn Max"
   ]
  },
  {
   "cell_type": "code",
   "execution_count": 9,
   "id": "69aa573a-ff30-4b1b-98ef-71861ff8f431",
   "metadata": {
    "tags": []
   },
   "outputs": [],
   "source": [
    "#Scaling to have values from 1 to 10\n",
    "X = (X - X.min()) / (X.max() - X.min()) * 9 + 1"
   ]
  },
  {
   "cell_type": "code",
   "execution_count": 10,
   "id": "c993d301-021b-41fb-80fc-faa78a5a432d",
   "metadata": {
    "tags": []
   },
   "outputs": [],
   "source": [
    "# Initializing random centroids\n",
    "def random_centroids(X,k):\n",
    "    centroids = []\n",
    "\n",
    "    for i in range(k):\n",
    "        centroid = X.apply(lambda x : float(x.sample())) # random centroid\n",
    "        centroids.append(centroid)\n",
    "\n",
    "    return pd.concat(centroids,axis=1)\n",
    "\n"
   ]
  },
  {
   "cell_type": "code",
   "execution_count": 11,
   "id": "90fb8dfa-0955-41d8-9346-6fa210801183",
   "metadata": {
    "tags": []
   },
   "outputs": [],
   "source": [
    "# Getting labels\n",
    "def get_labels(X,centroids):\n",
    "    distances = centroids.apply(lambda x: np.sqrt(((X - x) **2).sum(axis = 1)))\n",
    "    return distances.idxmin(axis=1)\n",
    "    \n",
    "    "
   ]
  },
  {
   "cell_type": "code",
   "execution_count": 12,
   "id": "f4fe33c4-96e0-4488-91ad-bccb86f41de2",
   "metadata": {
    "tags": []
   },
   "outputs": [],
   "source": [
    "# Updating centroids\n",
    "def new_centroids(X, labels,k):\n",
    "    return X.groupby(labels).apply(lambda x:np.exp(np.log(x).mean())).T"
   ]
  },
  {
   "cell_type": "code",
   "execution_count": 13,
   "id": "1a177c92-e103-40b4-a3b6-6831683d41e3",
   "metadata": {
    "tags": []
   },
   "outputs": [],
   "source": [
    "# Function to plot the cluster in 2 - Dimension\n",
    "def plot_clusters(X,labels, centroids, iteration):\n",
    "    pca = PCA(n_components=2)\n",
    "    data_2d = pca.fit_transform(X)\n",
    "    centroids_2d = pca.transform(centroids.T)\n",
    "    \n",
    "    # PCA components (loadings)\n",
    "    loadings = pca.components_\n",
    "\n",
    "    # Create a DataFrame for better visualization of feature contributions to each PC\n",
    "    loadings_df = pd.DataFrame(loadings, columns=X.columns, index=[f\"PC{i+1}\" for i in range(loadings.shape[0])])\n",
    "\n",
    "    \n",
    "    clear_output(wait=True)\n",
    "    \n",
    "    plt.title(f'Iteration{iteration}')\n",
    "    plt.scatter(x = data_2d[:,0], y = data_2d[:,1], c = labels)\n",
    "    plt.scatter(x = centroids_2d[:,0], y = centroids_2d[:,1], c = 'red')\n",
    "    plt.xlabel(\"PC1\")\n",
    "    plt.ylabel(\"PC2\")\n",
    "    plt.show()\n",
    "    \n",
    "    return loadings_df"
   ]
  },
  {
   "cell_type": "code",
   "execution_count": 33,
   "id": "afd9460d-5b37-4164-8a69-310f594b9040",
   "metadata": {
    "tags": []
   },
   "outputs": [
    {
     "data": {
      "image/png": "[encoded data removed]",
      "text/plain": [
       "<Figure size 640x480 with 1 Axes>"
      ]
     },
     "metadata": {},
     "output_type": "display_data"
    },
    {
     "name": "stdout",
     "output_type": "stream",
     "text": [
      "           X1        X2        X3        Z1        Z2         A         B\n",
      "PC1  0.415023  0.247527  0.348335  0.331460  0.322801  0.419729  0.504885\n",
      "PC2 -0.124130 -0.290689  0.539057 -0.095644 -0.534512 -0.262745  0.495603\n"
     ]
    }
   ],
   "source": [
    "from sklearn.decomposition import PCA\n",
    "import matplotlib.pyplot as plt\n",
    "from IPython.display import clear_output\n",
    "\n",
    "max_iterations = 100\n",
    "k = 3\n",
    "\n",
    "centroids = random_centroids(X,k)\n",
    "# print(centroids)\n",
    "old_centroids = pd.DataFrame()\n",
    "iteration = 1\n",
    "\n",
    "while(iteration<max_iterations) and not centroids.equals(old_centroids):\n",
    "    old_centroids = centroids\n",
    "    \n",
    "    labels = get_labels(X,centroids)\n",
    "    # print(labels)\n",
    "    # print(old_centroids)\n",
    "        \n",
    "    centroids = new_centroids(X, labels, k)\n",
    "    # print(centroids)\n",
    "    plot_clusters(X,labels,centroids, iteration)\n",
    "    \n",
    "    iteration += 1\n",
    "print(plot_clusters(X,labels,centroids, iteration))"
   ]
  },
  {
   "cell_type": "code",
   "execution_count": 34,
   "id": "5b03de62-7d6b-4ec8-9956-a3c361758b0e",
   "metadata": {
    "tags": []
   },
   "outputs": [
    {
     "data": {
      "text/html": [
       "<div>\n",
       "<style scoped>\n",
       "    .dataframe tbody tr th:only-of-type {\n",
       "        vertical-align: middle;\n",
       "    }\n",
       "\n",
       "    .dataframe tbody tr th {\n",
       "        vertical-align: top;\n",
       "    }\n",
       "\n",
       "    .dataframe thead th {\n",
       "        text-align: right;\n",
       "    }\n",
       "</style>\n",
       "<table border=\"1\" class=\"dataframe\">\n",
       "  <thead>\n",
       "    <tr style=\"text-align: right;\">\n",
       "      <th></th>\n",
       "      <th>0</th>\n",
       "      <th>1</th>\n",
       "      <th>2</th>\n",
       "    </tr>\n",
       "  </thead>\n",
       "  <tbody>\n",
       "    <tr>\n",
       "      <th>X1</th>\n",
       "      <td>5.485328</td>\n",
       "      <td>6.994922</td>\n",
       "      <td>2.339497</td>\n",
       "    </tr>\n",
       "    <tr>\n",
       "      <th>X2</th>\n",
       "      <td>2.345901</td>\n",
       "      <td>4.322135</td>\n",
       "      <td>2.100485</td>\n",
       "    </tr>\n",
       "    <tr>\n",
       "      <th>X3</th>\n",
       "      <td>2.432985</td>\n",
       "      <td>5.804234</td>\n",
       "      <td>1.357923</td>\n",
       "    </tr>\n",
       "    <tr>\n",
       "      <th>Z1</th>\n",
       "      <td>2.833629</td>\n",
       "      <td>4.144891</td>\n",
       "      <td>1.252855</td>\n",
       "    </tr>\n",
       "    <tr>\n",
       "      <th>Z2</th>\n",
       "      <td>3.592918</td>\n",
       "      <td>4.131630</td>\n",
       "      <td>1.634055</td>\n",
       "    </tr>\n",
       "    <tr>\n",
       "      <th>A</th>\n",
       "      <td>3.430326</td>\n",
       "      <td>6.027402</td>\n",
       "      <td>1.728988</td>\n",
       "    </tr>\n",
       "    <tr>\n",
       "      <th>B</th>\n",
       "      <td>1.481268</td>\n",
       "      <td>7.306000</td>\n",
       "      <td>1.251380</td>\n",
       "    </tr>\n",
       "  </tbody>\n",
       "</table>\n",
       "</div>"
      ],
      "text/plain": [
       "           0         1         2\n",
       "X1  5.485328  6.994922  2.339497\n",
       "X2  2.345901  4.322135  2.100485\n",
       "X3  2.432985  5.804234  1.357923\n",
       "Z1  2.833629  4.144891  1.252855\n",
       "Z2  3.592918  4.131630  1.634055\n",
       "A   3.430326  6.027402  1.728988\n",
       "B   1.481268  7.306000  1.251380"
      ]
     },
     "execution_count": 34,
     "metadata": {},
     "output_type": "execute_result"
    }
   ],
   "source": [
    "centroids"
   ]
  },
  {
   "cell_type": "code",
   "execution_count": 35,
   "id": "6d92b258-1ee6-4b4d-b86d-f71222d2ca99",
   "metadata": {
    "tags": []
   },
   "outputs": [
    {
     "data": {
      "text/html": [
       "<div>\n",
       "<style scoped>\n",
       "    .dataframe tbody tr th:only-of-type {\n",
       "        vertical-align: middle;\n",
       "    }\n",
       "\n",
       "    .dataframe tbody tr th {\n",
       "        vertical-align: top;\n",
       "    }\n",
       "\n",
       "    .dataframe thead th {\n",
       "        text-align: right;\n",
       "    }\n",
       "</style>\n",
       "<table border=\"1\" class=\"dataframe\">\n",
       "  <thead>\n",
       "    <tr style=\"text-align: right;\">\n",
       "      <th></th>\n",
       "      <th>X1</th>\n",
       "      <th>X2</th>\n",
       "      <th>X3</th>\n",
       "      <th>Z1</th>\n",
       "      <th>Z2</th>\n",
       "      <th>A</th>\n",
       "      <th>B</th>\n",
       "    </tr>\n",
       "  </thead>\n",
       "  <tbody>\n",
       "    <tr>\n",
       "      <th>0</th>\n",
       "      <td>2.362464</td>\n",
       "      <td>1.866635</td>\n",
       "      <td>1.195652</td>\n",
       "      <td>1.034325</td>\n",
       "      <td>1.455696</td>\n",
       "      <td>1.051478</td>\n",
       "      <td>1.000000</td>\n",
       "    </tr>\n",
       "    <tr>\n",
       "      <th>2</th>\n",
       "      <td>1.906877</td>\n",
       "      <td>1.433317</td>\n",
       "      <td>1.000000</td>\n",
       "      <td>1.000000</td>\n",
       "      <td>1.170886</td>\n",
       "      <td>1.000000</td>\n",
       "      <td>1.000000</td>\n",
       "    </tr>\n",
       "    <tr>\n",
       "      <th>5</th>\n",
       "      <td>3.664756</td>\n",
       "      <td>1.866635</td>\n",
       "      <td>1.391304</td>\n",
       "      <td>1.377574</td>\n",
       "      <td>1.142405</td>\n",
       "      <td>2.628114</td>\n",
       "      <td>2.332422</td>\n",
       "    </tr>\n",
       "    <tr>\n",
       "      <th>8</th>\n",
       "      <td>1.666189</td>\n",
       "      <td>2.299952</td>\n",
       "      <td>1.195652</td>\n",
       "      <td>1.075515</td>\n",
       "      <td>2.481013</td>\n",
       "      <td>1.216384</td>\n",
       "      <td>1.219359</td>\n",
       "    </tr>\n",
       "    <tr>\n",
       "      <th>10</th>\n",
       "      <td>3.050143</td>\n",
       "      <td>1.866635</td>\n",
       "      <td>1.586957</td>\n",
       "      <td>1.535469</td>\n",
       "      <td>2.110759</td>\n",
       "      <td>2.765099</td>\n",
       "      <td>1.264961</td>\n",
       "    </tr>\n",
       "    <tr>\n",
       "      <th>13</th>\n",
       "      <td>2.160458</td>\n",
       "      <td>2.299952</td>\n",
       "      <td>1.195652</td>\n",
       "      <td>1.645309</td>\n",
       "      <td>1.000000</td>\n",
       "      <td>1.330974</td>\n",
       "      <td>1.000000</td>\n",
       "    </tr>\n",
       "    <tr>\n",
       "      <th>14</th>\n",
       "      <td>3.127507</td>\n",
       "      <td>2.650939</td>\n",
       "      <td>1.586957</td>\n",
       "      <td>1.459954</td>\n",
       "      <td>1.313291</td>\n",
       "      <td>3.224333</td>\n",
       "      <td>1.533043</td>\n",
       "    </tr>\n",
       "    <tr>\n",
       "      <th>19</th>\n",
       "      <td>3.535817</td>\n",
       "      <td>2.299952</td>\n",
       "      <td>1.195652</td>\n",
       "      <td>1.501144</td>\n",
       "      <td>1.768987</td>\n",
       "      <td>3.223170</td>\n",
       "      <td>1.137980</td>\n",
       "    </tr>\n",
       "    <tr>\n",
       "      <th>24</th>\n",
       "      <td>3.531519</td>\n",
       "      <td>1.857968</td>\n",
       "      <td>3.934783</td>\n",
       "      <td>1.102975</td>\n",
       "      <td>1.370253</td>\n",
       "      <td>1.109355</td>\n",
       "      <td>1.766219</td>\n",
       "    </tr>\n",
       "    <tr>\n",
       "      <th>28</th>\n",
       "      <td>1.000000</td>\n",
       "      <td>2.299952</td>\n",
       "      <td>1.027391</td>\n",
       "      <td>1.178490</td>\n",
       "      <td>1.598101</td>\n",
       "      <td>1.193989</td>\n",
       "      <td>1.000000</td>\n",
       "    </tr>\n",
       "    <tr>\n",
       "      <th>29</th>\n",
       "      <td>1.623209</td>\n",
       "      <td>2.733269</td>\n",
       "      <td>1.000000</td>\n",
       "      <td>1.082380</td>\n",
       "      <td>4.275316</td>\n",
       "      <td>2.423946</td>\n",
       "      <td>1.063002</td>\n",
       "    </tr>\n",
       "  </tbody>\n",
       "</table>\n",
       "</div>"
      ],
      "text/plain": [
       "          X1        X2        X3        Z1        Z2         A         B\n",
       "0   2.362464  1.866635  1.195652  1.034325  1.455696  1.051478  1.000000\n",
       "2   1.906877  1.433317  1.000000  1.000000  1.170886  1.000000  1.000000\n",
       "5   3.664756  1.866635  1.391304  1.377574  1.142405  2.628114  2.332422\n",
       "8   1.666189  2.299952  1.195652  1.075515  2.481013  1.216384  1.219359\n",
       "10  3.050143  1.866635  1.586957  1.535469  2.110759  2.765099  1.264961\n",
       "13  2.160458  2.299952  1.195652  1.645309  1.000000  1.330974  1.000000\n",
       "14  3.127507  2.650939  1.586957  1.459954  1.313291  3.224333  1.533043\n",
       "19  3.535817  2.299952  1.195652  1.501144  1.768987  3.223170  1.137980\n",
       "24  3.531519  1.857968  3.934783  1.102975  1.370253  1.109355  1.766219\n",
       "28  1.000000  2.299952  1.027391  1.178490  1.598101  1.193989  1.000000\n",
       "29  1.623209  2.733269  1.000000  1.082380  4.275316  2.423946  1.063002"
      ]
     },
     "execution_count": 35,
     "metadata": {},
     "output_type": "execute_result"
    }
   ],
   "source": [
    "X[labels==2]"
   ]
  },
  {
   "cell_type": "markdown",
   "id": "da5c9b5d-185b-4ef2-89bb-0ecc23a22801",
   "metadata": {},
   "source": [
    "## Interpreting the clusters"
   ]
  },
  {
   "cell_type": "code",
   "execution_count": 36,
   "id": "c4b0ffdc-9efa-4085-8c55-f573fc9f8cd0",
   "metadata": {
    "tags": []
   },
   "outputs": [],
   "source": [
    "insights_data = data[data['Y'] != 0].reset_index(drop = True)\n",
    "\n",
    "insights_data = pd.concat([insights_data,labels],axis=1)#.drop(['ID'],axis=1)\n",
    "insights_data.rename(columns={insights_data.columns[-1]: 'cluster'}, inplace=True)"
   ]
  },
  {
   "cell_type": "code",
   "execution_count": 37,
   "id": "26a035f1-986b-411c-93ec-78dc3b4e0a03",
   "metadata": {
    "tags": []
   },
   "outputs": [
    {
     "data": {
      "text/html": [
       "<div>\n",
       "<style scoped>\n",
       "    .dataframe tbody tr th:only-of-type {\n",
       "        vertical-align: middle;\n",
       "    }\n",
       "\n",
       "    .dataframe tbody tr th {\n",
       "        vertical-align: top;\n",
       "    }\n",
       "\n",
       "    .dataframe thead th {\n",
       "        text-align: right;\n",
       "    }\n",
       "</style>\n",
       "<table border=\"1\" class=\"dataframe\">\n",
       "  <thead>\n",
       "    <tr style=\"text-align: right;\">\n",
       "      <th></th>\n",
       "      <th>X1</th>\n",
       "      <th>X2</th>\n",
       "      <th>X3</th>\n",
       "      <th>Z1</th>\n",
       "      <th>Z2</th>\n",
       "      <th>A</th>\n",
       "      <th>B</th>\n",
       "      <th>Y</th>\n",
       "    </tr>\n",
       "    <tr>\n",
       "      <th>cluster</th>\n",
       "      <th></th>\n",
       "      <th></th>\n",
       "      <th></th>\n",
       "      <th></th>\n",
       "      <th></th>\n",
       "      <th></th>\n",
       "      <th></th>\n",
       "      <th></th>\n",
       "    </tr>\n",
       "  </thead>\n",
       "  <tbody>\n",
       "    <tr>\n",
       "      <th>0</th>\n",
       "      <td>21.627500</td>\n",
       "      <td>4.242500</td>\n",
       "      <td>5.487500</td>\n",
       "      <td>324.500000</td>\n",
       "      <td>113.909091</td>\n",
       "      <td>10172.000000</td>\n",
       "      <td>5.386035e+05</td>\n",
       "      <td>28.958333</td>\n",
       "    </tr>\n",
       "    <tr>\n",
       "      <th>1</th>\n",
       "      <td>28.842857</td>\n",
       "      <td>8.640000</td>\n",
       "      <td>13.455714</td>\n",
       "      <td>546.714286</td>\n",
       "      <td>133.571429</td>\n",
       "      <td>19248.857143</td>\n",
       "      <td>5.938003e+06</td>\n",
       "      <td>25.214286</td>\n",
       "    </tr>\n",
       "    <tr>\n",
       "      <th>2</th>\n",
       "      <td>7.134545</td>\n",
       "      <td>2.617273</td>\n",
       "      <td>1.733636</td>\n",
       "      <td>39.636364</td>\n",
       "      <td>27.727273</td>\n",
       "      <td>3738.909091</td>\n",
       "      <td>2.649542e+05</td>\n",
       "      <td>10.090909</td>\n",
       "    </tr>\n",
       "  </tbody>\n",
       "</table>\n",
       "</div>"
      ],
      "text/plain": [
       "                X1        X2         X3          Z1          Z2             A  \\\n",
       "cluster                                                                         \n",
       "0        21.627500  4.242500   5.487500  324.500000  113.909091  10172.000000   \n",
       "1        28.842857  8.640000  13.455714  546.714286  133.571429  19248.857143   \n",
       "2         7.134545  2.617273   1.733636   39.636364   27.727273   3738.909091   \n",
       "\n",
       "                    B          Y  \n",
       "cluster                           \n",
       "0        5.386035e+05  28.958333  \n",
       "1        5.938003e+06  25.214286  \n",
       "2        2.649542e+05  10.090909  "
      ]
     },
     "execution_count": 37,
     "metadata": {},
     "output_type": "execute_result"
    }
   ],
   "source": [
    "insights_data.drop(['ID'],axis=1).groupby('cluster').mean()"
   ]
  },
  {
   "cell_type": "code",
   "execution_count": 38,
   "id": "cfbaaa03-be15-4e1a-980b-ced55c359e25",
   "metadata": {
    "tags": []
   },
   "outputs": [
    {
     "data": {
      "text/html": [
       "<div>\n",
       "<style scoped>\n",
       "    .dataframe tbody tr th:only-of-type {\n",
       "        vertical-align: middle;\n",
       "    }\n",
       "\n",
       "    .dataframe tbody tr th {\n",
       "        vertical-align: top;\n",
       "    }\n",
       "\n",
       "    .dataframe thead th {\n",
       "        text-align: right;\n",
       "    }\n",
       "</style>\n",
       "<table border=\"1\" class=\"dataframe\">\n",
       "  <thead>\n",
       "    <tr style=\"text-align: right;\">\n",
       "      <th></th>\n",
       "      <th>ID</th>\n",
       "      <th>X1</th>\n",
       "      <th>X2</th>\n",
       "      <th>X3</th>\n",
       "      <th>Z1</th>\n",
       "      <th>Z2</th>\n",
       "      <th>A</th>\n",
       "      <th>B</th>\n",
       "      <th>Y</th>\n",
       "      <th>cluster</th>\n",
       "    </tr>\n",
       "  </thead>\n",
       "  <tbody>\n",
       "    <tr>\n",
       "      <th>0</th>\n",
       "      <td>1001</td>\n",
       "      <td>6.44</td>\n",
       "      <td>2.00</td>\n",
       "      <td>1.00</td>\n",
       "      <td>5</td>\n",
       "      <td>16.0</td>\n",
       "      <td>738</td>\n",
       "      <td>0.00</td>\n",
       "      <td>11.0</td>\n",
       "      <td>2</td>\n",
       "    </tr>\n",
       "    <tr>\n",
       "      <th>2</th>\n",
       "      <td>1004</td>\n",
       "      <td>4.32</td>\n",
       "      <td>1.00</td>\n",
       "      <td>0.50</td>\n",
       "      <td>0</td>\n",
       "      <td>6.0</td>\n",
       "      <td>561</td>\n",
       "      <td>0.00</td>\n",
       "      <td>7.0</td>\n",
       "      <td>2</td>\n",
       "    </tr>\n",
       "    <tr>\n",
       "      <th>5</th>\n",
       "      <td>1010</td>\n",
       "      <td>12.50</td>\n",
       "      <td>2.00</td>\n",
       "      <td>1.50</td>\n",
       "      <td>55</td>\n",
       "      <td>5.0</td>\n",
       "      <td>6159</td>\n",
       "      <td>1170743.34</td>\n",
       "      <td>5.0</td>\n",
       "      <td>2</td>\n",
       "    </tr>\n",
       "    <tr>\n",
       "      <th>8</th>\n",
       "      <td>1013</td>\n",
       "      <td>3.20</td>\n",
       "      <td>3.00</td>\n",
       "      <td>1.00</td>\n",
       "      <td>11</td>\n",
       "      <td>52.0</td>\n",
       "      <td>1305</td>\n",
       "      <td>192741.55</td>\n",
       "      <td>6.0</td>\n",
       "      <td>2</td>\n",
       "    </tr>\n",
       "    <tr>\n",
       "      <th>10</th>\n",
       "      <td>1016</td>\n",
       "      <td>9.64</td>\n",
       "      <td>2.00</td>\n",
       "      <td>2.00</td>\n",
       "      <td>78</td>\n",
       "      <td>39.0</td>\n",
       "      <td>6630</td>\n",
       "      <td>232810.02</td>\n",
       "      <td>8.0</td>\n",
       "      <td>2</td>\n",
       "    </tr>\n",
       "    <tr>\n",
       "      <th>13</th>\n",
       "      <td>1022</td>\n",
       "      <td>5.50</td>\n",
       "      <td>3.00</td>\n",
       "      <td>1.00</td>\n",
       "      <td>94</td>\n",
       "      <td>0.0</td>\n",
       "      <td>1699</td>\n",
       "      <td>0.00</td>\n",
       "      <td>13.0</td>\n",
       "      <td>2</td>\n",
       "    </tr>\n",
       "    <tr>\n",
       "      <th>14</th>\n",
       "      <td>1024</td>\n",
       "      <td>10.00</td>\n",
       "      <td>3.81</td>\n",
       "      <td>2.00</td>\n",
       "      <td>67</td>\n",
       "      <td>11.0</td>\n",
       "      <td>8209</td>\n",
       "      <td>468362.28</td>\n",
       "      <td>7.0</td>\n",
       "      <td>2</td>\n",
       "    </tr>\n",
       "    <tr>\n",
       "      <th>19</th>\n",
       "      <td>1030</td>\n",
       "      <td>11.90</td>\n",
       "      <td>3.00</td>\n",
       "      <td>1.00</td>\n",
       "      <td>73</td>\n",
       "      <td>27.0</td>\n",
       "      <td>8205</td>\n",
       "      <td>121236.84</td>\n",
       "      <td>28.0</td>\n",
       "      <td>2</td>\n",
       "    </tr>\n",
       "    <tr>\n",
       "      <th>24</th>\n",
       "      <td>1035</td>\n",
       "      <td>11.88</td>\n",
       "      <td>1.98</td>\n",
       "      <td>8.00</td>\n",
       "      <td>15</td>\n",
       "      <td>13.0</td>\n",
       "      <td>937</td>\n",
       "      <td>673244.42</td>\n",
       "      <td>10.0</td>\n",
       "      <td>2</td>\n",
       "    </tr>\n",
       "    <tr>\n",
       "      <th>28</th>\n",
       "      <td>1039</td>\n",
       "      <td>0.10</td>\n",
       "      <td>3.00</td>\n",
       "      <td>0.57</td>\n",
       "      <td>26</td>\n",
       "      <td>21.0</td>\n",
       "      <td>1228</td>\n",
       "      <td>0.00</td>\n",
       "      <td>4.0</td>\n",
       "      <td>2</td>\n",
       "    </tr>\n",
       "    <tr>\n",
       "      <th>29</th>\n",
       "      <td>1040</td>\n",
       "      <td>3.00</td>\n",
       "      <td>4.00</td>\n",
       "      <td>0.50</td>\n",
       "      <td>12</td>\n",
       "      <td>115.0</td>\n",
       "      <td>5457</td>\n",
       "      <td>55357.24</td>\n",
       "      <td>12.0</td>\n",
       "      <td>2</td>\n",
       "    </tr>\n",
       "  </tbody>\n",
       "</table>\n",
       "</div>"
      ],
      "text/plain": [
       "      ID     X1    X2    X3  Z1     Z2     A           B     Y  cluster\n",
       "0   1001   6.44  2.00  1.00   5   16.0   738        0.00  11.0        2\n",
       "2   1004   4.32  1.00  0.50   0    6.0   561        0.00   7.0        2\n",
       "5   1010  12.50  2.00  1.50  55    5.0  6159  1170743.34   5.0        2\n",
       "8   1013   3.20  3.00  1.00  11   52.0  1305   192741.55   6.0        2\n",
       "10  1016   9.64  2.00  2.00  78   39.0  6630   232810.02   8.0        2\n",
       "13  1022   5.50  3.00  1.00  94    0.0  1699        0.00  13.0        2\n",
       "14  1024  10.00  3.81  2.00  67   11.0  8209   468362.28   7.0        2\n",
       "19  1030  11.90  3.00  1.00  73   27.0  8205   121236.84  28.0        2\n",
       "24  1035  11.88  1.98  8.00  15   13.0   937   673244.42  10.0        2\n",
       "28  1039   0.10  3.00  0.57  26   21.0  1228        0.00   4.0        2\n",
       "29  1040   3.00  4.00  0.50  12  115.0  5457    55357.24  12.0        2"
      ]
     },
     "execution_count": 38,
     "metadata": {},
     "output_type": "execute_result"
    }
   ],
   "source": [
    "insights_data[insights_data['cluster']==2]"
   ]
  },
  {
   "cell_type": "code",
   "execution_count": 407,
   "id": "31da3a31-7de8-40c7-ba35-4470660e7c96",
   "metadata": {
    "tags": []
   },
   "outputs": [],
   "source": [
    "insights_data.to_csv('data/data_with_clusters.csv')"
   ]
  },
  {
   "cell_type": "code",
   "execution_count": null,
   "id": "3b632fb3-1184-4697-b535-9710aae96bcb",
   "metadata": {},
   "outputs": [],
   "source": []
  },
  {
   "cell_type": "code",
   "execution_count": null,
   "id": "ab58d048-543b-4ffa-8d4f-ad7f91b59f6e",
   "metadata": {},
   "outputs": [],
   "source": []
  },
  {
   "cell_type": "code",
   "execution_count": null,
   "id": "20055b5f-cb0c-4379-a1d9-b128cbd8cf76",
   "metadata": {},
   "outputs": [],
   "source": []
  },
  {
   "cell_type": "markdown",
   "id": "32207164-260e-41ed-a06d-c5a8bbe2f933",
   "metadata": {},
   "source": [
    "# Using 3 Principal components"
   ]
  },
  {
   "cell_type": "code",
   "execution_count": 278,
   "id": "b5928fe4-a5b4-49d1-a815-d62a5548d8e7",
   "metadata": {
    "tags": []
   },
   "outputs": [],
   "source": [
    "# Function to randomly initialize centroids\n",
    "def random_centroids_3d(X,k):\n",
    "    centroids = []\n",
    "\n",
    "    for i in range(k):\n",
    "        centroid = X.apply(lambda x : float(x.sample())) # random centroid\n",
    "        centroids.append(centroid)\n",
    "\n",
    "    return pd.concat(centroids,axis=1)"
   ]
  },
  {
   "cell_type": "code",
   "execution_count": 279,
   "id": "5ee5d665-a8fb-40a7-8844-b889d966441c",
   "metadata": {
    "tags": []
   },
   "outputs": [],
   "source": [
    "# Function to calculate the labels based on the nearest centroid\n",
    "def get_labels_3d(X, centroids):\n",
    "    distances = centroids.apply(lambda x: np.sqrt(((X - x) **2).sum(axis = 1)))\n",
    "    return distances.idxmin(axis=1)"
   ]
  },
  {
   "cell_type": "code",
   "execution_count": 280,
   "id": "8d33360d-6e01-4d81-8ea2-aadf04763548",
   "metadata": {
    "tags": []
   },
   "outputs": [],
   "source": [
    "# Function to calculate new centroids (mean of the data points in each cluster)\n",
    "def new_centroids_3d(X, labels, k):\n",
    "    return X.groupby(labels).apply(lambda x:np.exp(np.log(x).mean())).T"
   ]
  },
  {
   "cell_type": "code",
   "execution_count": 281,
   "id": "374f59d1-63d2-48ef-8a4a-7c4ad7debe21",
   "metadata": {
    "tags": []
   },
   "outputs": [],
   "source": [
    "def plot_clusters_3d(X, labels, centroids, iteration):\n",
    "    # print(X.shape)\n",
    "    # Perform PCA to reduce data to 3 components\n",
    "    pca = PCA(n_components=3)\n",
    "    X_pca = pca.fit_transform(X)\n",
    "    \n",
    "    # print(centroids)\n",
    "    # Transform centroids to PCA space\n",
    "    centroids_pca = pca.transform(centroids.T)\n",
    "    \n",
    "    clear_output(wait=True)\n",
    "\n",
    "\n",
    "    # Create a 3D plot\n",
    "    fig = plt.figure(figsize=(12, 8))\n",
    "    ax = fig.add_subplot(111, projection='3d')\n",
    "\n",
    "    # Plot data points with labels (colors based on cluster labels)\n",
    "    ax.scatter(X_pca[:, 0], X_pca[:, 1], X_pca[:, 2], c=labels, cmap='viridis', s=50, alpha=0.6)\n",
    "\n",
    "    # Plot centroids in the PCA space\n",
    "    ax.scatter(centroids_pca[:, 0], centroids_pca[:, 1], centroids_pca[:, 2], s=300, c='red', marker='X', label='Centroids')\n",
    "\n",
    "    # Set labels and title\n",
    "    ax.set_xlabel('Principal Component 1')\n",
    "    ax.set_ylabel('Principal Component 2')\n",
    "    ax.set_zlabel('Principal Component 3')\n",
    "    ax.set_title(f'Iteration {iteration} - 3D Clusters')\n",
    "\n",
    "    # Show legend\n",
    "    ax.legend()\n",
    "\n",
    "    # Show plot\n",
    "    plt.show()\n"
   ]
  },
  {
   "cell_type": "code",
   "execution_count": 292,
   "id": "9c43f8fe-de0a-471a-8591-524d7097b51e",
   "metadata": {
    "tags": []
   },
   "outputs": [
    {
     "data": {
      "image/png": "[encoded data removed]",
      "text/plain": [
       "<Figure size 1200x800 with 1 Axes>"
      ]
     },
     "metadata": {},
     "output_type": "display_data"
    }
   ],
   "source": [
    "import numpy as np\n",
    "import pandas as pd\n",
    "import matplotlib.pyplot as plt\n",
    "from mpl_toolkits.mplot3d import Axes3D\n",
    "from sklearn.decomposition import PCA\n",
    "\n",
    "# Main loop for clustering\n",
    "max_iterations = 100\n",
    "k = 3\n",
    "\n",
    "\n",
    "centroids = random_centroids_3d(X, k)\n",
    "old_centroids = pd.DataFrame()\n",
    "iteration = 1\n",
    "\n",
    "# Clustering loop\n",
    "while (iteration < max_iterations) and not np.array_equal(centroids, old_centroids):\n",
    "    old_centroids = centroids\n",
    "    \n",
    "    # Get labels for the data points based on closest centroid\n",
    "    labels = get_labels_3d(X, centroids)\n",
    "    \n",
    "    # Calculate new centroids based on current labels\n",
    "    centroids = new_centroids_3d(X, labels, k)\n",
    "    # print(X.shape)\n",
    "    # Plot clusters in 3D for the current iteration\n",
    "    plot_clusters_3d(X, labels, centroids, iteration)\n",
    "    \n",
    "    iteration += 1"
   ]
  },
  {
   "cell_type": "code",
   "execution_count": 293,
   "id": "8ec20f6b-c165-4b32-9675-a949a7e957bf",
   "metadata": {
    "tags": []
   },
   "outputs": [
    {
     "data": {
      "text/html": [
       "<div>\n",
       "<style scoped>\n",
       "    .dataframe tbody tr th:only-of-type {\n",
       "        vertical-align: middle;\n",
       "    }\n",
       "\n",
       "    .dataframe tbody tr th {\n",
       "        vertical-align: top;\n",
       "    }\n",
       "\n",
       "    .dataframe thead th {\n",
       "        text-align: right;\n",
       "    }\n",
       "</style>\n",
       "<table border=\"1\" class=\"dataframe\">\n",
       "  <thead>\n",
       "    <tr style=\"text-align: right;\">\n",
       "      <th></th>\n",
       "      <th>0</th>\n",
       "      <th>1</th>\n",
       "      <th>2</th>\n",
       "    </tr>\n",
       "  </thead>\n",
       "  <tbody>\n",
       "    <tr>\n",
       "      <th>X1</th>\n",
       "      <td>3.395143</td>\n",
       "      <td>6.830188</td>\n",
       "      <td>7.880392</td>\n",
       "    </tr>\n",
       "    <tr>\n",
       "      <th>X2</th>\n",
       "      <td>2.012203</td>\n",
       "      <td>3.758213</td>\n",
       "      <td>7.425200</td>\n",
       "    </tr>\n",
       "    <tr>\n",
       "      <th>X3</th>\n",
       "      <td>1.799457</td>\n",
       "      <td>6.569436</td>\n",
       "      <td>2.470539</td>\n",
       "    </tr>\n",
       "    <tr>\n",
       "      <th>Z1</th>\n",
       "      <td>1.880098</td>\n",
       "      <td>3.993615</td>\n",
       "      <td>3.070504</td>\n",
       "    </tr>\n",
       "    <tr>\n",
       "      <th>Z2</th>\n",
       "      <td>2.286653</td>\n",
       "      <td>3.565674</td>\n",
       "      <td>6.648114</td>\n",
       "    </tr>\n",
       "    <tr>\n",
       "      <th>A</th>\n",
       "      <td>2.271382</td>\n",
       "      <td>5.539687</td>\n",
       "      <td>7.121103</td>\n",
       "    </tr>\n",
       "    <tr>\n",
       "      <th>B</th>\n",
       "      <td>1.385717</td>\n",
       "      <td>8.533797</td>\n",
       "      <td>1.588086</td>\n",
       "    </tr>\n",
       "  </tbody>\n",
       "</table>\n",
       "</div>"
      ],
      "text/plain": [
       "           0         1         2\n",
       "X1  3.395143  6.830188  7.880392\n",
       "X2  2.012203  3.758213  7.425200\n",
       "X3  1.799457  6.569436  2.470539\n",
       "Z1  1.880098  3.993615  3.070504\n",
       "Z2  2.286653  3.565674  6.648114\n",
       "A   2.271382  5.539687  7.121103\n",
       "B   1.385717  8.533797  1.588086"
      ]
     },
     "execution_count": 293,
     "metadata": {},
     "output_type": "execute_result"
    }
   ],
   "source": [
    "centroids"
   ]
  }
 ],
 "metadata": {
  "availableInstances": [
   {
    "_defaultOrder": 0,
    "_isFastLaunch": true,
    "category": "General purpose",
    "gpuNum": 0,
    "hideHardwareSpecs": false,
    "memoryGiB": 4,
    "name": "ml.t3.medium",
    "vcpuNum": 2
   },
   {
    "_defaultOrder": 1,
    "_isFastLaunch": false,
    "category": "General purpose",
    "gpuNum": 0,
    "hideHardwareSpecs": false,
    "memoryGiB": 8,
    "name": "ml.t3.large",
    "vcpuNum": 2
   },
   {
    "_defaultOrder": 2,
    "_isFastLaunch": false,
    "category": "General purpose",
    "gpuNum": 0,
    "hideHardwareSpecs": false,
    "memoryGiB": 16,
    "name": "ml.t3.xlarge",
    "vcpuNum": 4
   },
   {
    "_defaultOrder": 3,
    "_isFastLaunch": false,
    "category": "General purpose",
    "gpuNum": 0,
    "hideHardwareSpecs": false,
    "memoryGiB": 32,
    "name": "ml.t3.2xlarge",
    "vcpuNum": 8
   },
   {
    "_defaultOrder": 4,
    "_isFastLaunch": true,
    "category": "General purpose",
    "gpuNum": 0,
    "hideHardwareSpecs": false,
    "memoryGiB": 8,
    "name": "ml.m5.large",
    "vcpuNum": 2
   },
   {
    "_defaultOrder": 5,
    "_isFastLaunch": false,
    "category": "General purpose",
    "gpuNum": 0,
    "hideHardwareSpecs": false,
    "memoryGiB": 16,
    "name": "ml.m5.xlarge",
    "vcpuNum": 4
   },
   {
    "_defaultOrder": 6,
    "_isFastLaunch": false,
    "category": "General purpose",
    "gpuNum": 0,
    "hideHardwareSpecs": false,
    "memoryGiB": 32,
    "name": "ml.m5.2xlarge",
    "vcpuNum": 8
   },
   {
    "_defaultOrder": 7,
    "_isFastLaunch": false,
    "category": "General purpose",
    "gpuNum": 0,
    "hideHardwareSpecs": false,
    "memoryGiB": 64,
    "name": "ml.m5.4xlarge",
    "vcpuNum": 16
   },
   {
    "_defaultOrder": 8,
    "_isFastLaunch": false,
    "category": "General purpose",
    "gpuNum": 0,
    "hideHardwareSpecs": false,
    "memoryGiB": 128,
    "name": "ml.m5.8xlarge",
    "vcpuNum": 32
   },
   {
    "_defaultOrder": 9,
    "_isFastLaunch": false,
    "category": "General purpose",
    "gpuNum": 0,
    "hideHardwareSpecs": false,
    "memoryGiB": 192,
    "name": "ml.m5.12xlarge",
    "vcpuNum": 48
   },
   {
    "_defaultOrder": 10,
    "_isFastLaunch": false,
    "category": "General purpose",
    "gpuNum": 0,
    "hideHardwareSpecs": false,
    "memoryGiB": 256,
    "name": "ml.m5.16xlarge",
    "vcpuNum": 64
   },
   {
    "_defaultOrder": 11,
    "_isFastLaunch": false,
    "category": "General purpose",
    "gpuNum": 0,
    "hideHardwareSpecs": false,
    "memoryGiB": 384,
    "name": "ml.m5.24xlarge",
    "vcpuNum": 96
   },
   {
    "_defaultOrder": 12,
    "_isFastLaunch": false,
    "category": "General purpose",
    "gpuNum": 0,
    "hideHardwareSpecs": false,
    "memoryGiB": 8,
    "name": "ml.m5d.large",
    "vcpuNum": 2
   },
   {
    "_defaultOrder": 13,
    "_isFastLaunch": false,
    "category": "General purpose",
    "gpuNum": 0,
    "hideHardwareSpecs": false,
    "memoryGiB": 16,
    "name": "ml.m5d.xlarge",
    "vcpuNum": 4
   },
   {
    "_defaultOrder": 14,
    "_isFastLaunch": false,
    "category": "General purpose",
    "gpuNum": 0,
    "hideHardwareSpecs": false,
    "memoryGiB": 32,
    "name": "ml.m5d.2xlarge",
    "vcpuNum": 8
   },
   {
    "_defaultOrder": 15,
    "_isFastLaunch": false,
    "category": "General purpose",
    "gpuNum": 0,
    "hideHardwareSpecs": false,
    "memoryGiB": 64,
    "name": "ml.m5d.4xlarge",
    "vcpuNum": 16
   },
   {
    "_defaultOrder": 16,
    "_isFastLaunch": false,
    "category": "General purpose",
    "gpuNum": 0,
    "hideHardwareSpecs": false,
    "memoryGiB": 128,
    "name": "ml.m5d.8xlarge",
    "vcpuNum": 32
   },
   {
    "_defaultOrder": 17,
    "_isFastLaunch": false,
    "category": "General purpose",
    "gpuNum": 0,
    "hideHardwareSpecs": false,
    "memoryGiB": 192,
    "name": "ml.m5d.12xlarge",
    "vcpuNum": 48
   },
   {
    "_defaultOrder": 18,
    "_isFastLaunch": false,
    "category": "General purpose",
    "gpuNum": 0,
    "hideHardwareSpecs": false,
    "memoryGiB": 256,
    "name": "ml.m5d.16xlarge",
    "vcpuNum": 64
   },
   {
    "_defaultOrder": 19,
    "_isFastLaunch": false,
    "category": "General purpose",
    "gpuNum": 0,
    "hideHardwareSpecs": false,
    "memoryGiB": 384,
    "name": "ml.m5d.24xlarge",
    "vcpuNum": 96
   },
   {
    "_defaultOrder": 20,
    "_isFastLaunch": false,
    "category": "General purpose",
    "gpuNum": 0,
    "hideHardwareSpecs": true,
    "memoryGiB": 0,
    "name": "ml.geospatial.interactive",
    "supportedImageNames": [
     "sagemaker-geospatial-v1-0"
    ],
    "vcpuNum": 0
   },
   {
    "_defaultOrder": 21,
    "_isFastLaunch": true,
    "category": "Compute optimized",
    "gpuNum": 0,
    "hideHardwareSpecs": false,
    "memoryGiB": 4,
    "name": "ml.c5.large",
    "vcpuNum": 2
   },
   {
    "_defaultOrder": 22,
    "_isFastLaunch": false,
    "category": "Compute optimized",
    "gpuNum": 0,
    "hideHardwareSpecs": false,
    "memoryGiB": 8,
    "name": "ml.c5.xlarge",
    "vcpuNum": 4
   },
   {
    "_defaultOrder": 23,
    "_isFastLaunch": false,
    "category": "Compute optimized",
    "gpuNum": 0,
    "hideHardwareSpecs": false,
    "memoryGiB": 16,
    "name": "ml.c5.2xlarge",
    "vcpuNum": 8
   },
   {
    "_defaultOrder": 24,
    "_isFastLaunch": false,
    "category": "Compute optimized",
    "gpuNum": 0,
    "hideHardwareSpecs": false,
    "memoryGiB": 32,
    "name": "ml.c5.4xlarge",
    "vcpuNum": 16
   },
   {
    "_defaultOrder": 25,
    "_isFastLaunch": false,
    "category": "Compute optimized",
    "gpuNum": 0,
    "hideHardwareSpecs": false,
    "memoryGiB": 72,
    "name": "ml.c5.9xlarge",
    "vcpuNum": 36
   },
   {
    "_defaultOrder": 26,
    "_isFastLaunch": false,
    "category": "Compute optimized",
    "gpuNum": 0,
    "hideHardwareSpecs": false,
    "memoryGiB": 96,
    "name": "ml.c5.12xlarge",
    "vcpuNum": 48
   },
   {
    "_defaultOrder": 27,
    "_isFastLaunch": false,
    "category": "Compute optimized",
    "gpuNum": 0,
    "hideHardwareSpecs": false,
    "memoryGiB": 144,
    "name": "ml.c5.18xlarge",
    "vcpuNum": 72
   },
   {
    "_defaultOrder": 28,
    "_isFastLaunch": false,
    "category": "Compute optimized",
    "gpuNum": 0,
    "hideHardwareSpecs": false,
    "memoryGiB": 192,
    "name": "ml.c5.24xlarge",
    "vcpuNum": 96
   },
   {
    "_defaultOrder": 29,
    "_isFastLaunch": true,
    "category": "Accelerated computing",
    "gpuNum": 1,
    "hideHardwareSpecs": false,
    "memoryGiB": 16,
    "name": "ml.g4dn.xlarge",
    "vcpuNum": 4
   },
   {
    "_defaultOrder": 30,
    "_isFastLaunch": false,
    "category": "Accelerated computing",
    "gpuNum": 1,
    "hideHardwareSpecs": false,
    "memoryGiB": 32,
    "name": "ml.g4dn.2xlarge",
    "vcpuNum": 8
   },
   {
    "_defaultOrder": 31,
    "_isFastLaunch": false,
    "category": "Accelerated computing",
    "gpuNum": 1,
    "hideHardwareSpecs": false,
    "memoryGiB": 64,
    "name": "ml.g4dn.4xlarge",
    "vcpuNum": 16
   },
   {
    "_defaultOrder": 32,
    "_isFastLaunch": false,
    "category": "Accelerated computing",
    "gpuNum": 1,
    "hideHardwareSpecs": false,
    "memoryGiB": 128,
    "name": "ml.g4dn.8xlarge",
    "vcpuNum": 32
   },
   {
    "_defaultOrder": 33,
    "_isFastLaunch": false,
    "category": "Accelerated computing",
    "gpuNum": 4,
    "hideHardwareSpecs": false,
    "memoryGiB": 192,
    "name": "ml.g4dn.12xlarge",
    "vcpuNum": 48
   },
   {
    "_defaultOrder": 34,
    "_isFastLaunch": false,
    "category": "Accelerated computing",
    "gpuNum": 1,
    "hideHardwareSpecs": false,
    "memoryGiB": 256,
    "name": "ml.g4dn.16xlarge",
    "vcpuNum": 64
   },
   {
    "_defaultOrder": 35,
    "_isFastLaunch": false,
    "category": "Accelerated computing",
    "gpuNum": 1,
    "hideHardwareSpecs": false,
    "memoryGiB": 61,
    "name": "ml.p3.2xlarge",
    "vcpuNum": 8
   },
   {
    "_defaultOrder": 36,
    "_isFastLaunch": false,
    "category": "Accelerated computing",
    "gpuNum": 4,
    "hideHardwareSpecs": false,
    "memoryGiB": 244,
    "name": "ml.p3.8xlarge",
    "vcpuNum": 32
   },
   {
    "_defaultOrder": 37,
    "_isFastLaunch": false,
    "category": "Accelerated computing",
    "gpuNum": 8,
    "hideHardwareSpecs": false,
    "memoryGiB": 488,
    "name": "ml.p3.16xlarge",
    "vcpuNum": 64
   },
   {
    "_defaultOrder": 38,
    "_isFastLaunch": false,
    "category": "Accelerated computing",
    "gpuNum": 8,
    "hideHardwareSpecs": false,
    "memoryGiB": 768,
    "name": "ml.p3dn.24xlarge",
    "vcpuNum": 96
   },
   {
    "_defaultOrder": 39,
    "_isFastLaunch": false,
    "category": "Memory Optimized",
    "gpuNum": 0,
    "hideHardwareSpecs": false,
    "memoryGiB": 16,
    "name": "ml.r5.large",
    "vcpuNum": 2
   },
   {
    "_defaultOrder": 40,
    "_isFastLaunch": false,
    "category": "Memory Optimized",
    "gpuNum": 0,
    "hideHardwareSpecs": false,
    "memoryGiB": 32,
    "name": "ml.r5.xlarge",
    "vcpuNum": 4
   },
   {
    "_defaultOrder": 41,
    "_isFastLaunch": false,
    "category": "Memory Optimized",
    "gpuNum": 0,
    "hideHardwareSpecs": false,
    "memoryGiB": 64,
    "name": "ml.r5.2xlarge",
    "vcpuNum": 8
   },
   {
    "_defaultOrder": 42,
    "_isFastLaunch": false,
    "category": "Memory Optimized",
    "gpuNum": 0,
    "hideHardwareSpecs": false,
    "memoryGiB": 128,
    "name": "ml.r5.4xlarge",
    "vcpuNum": 16
   },
   {
    "_defaultOrder": 43,
    "_isFastLaunch": false,
    "category": "Memory Optimized",
    "gpuNum": 0,
    "hideHardwareSpecs": false,
    "memoryGiB": 256,
    "name": "ml.r5.8xlarge",
    "vcpuNum": 32
   },
   {
    "_defaultOrder": 44,
    "_isFastLaunch": false,
    "category": "Memory Optimized",
    "gpuNum": 0,
    "hideHardwareSpecs": false,
    "memoryGiB": 384,
    "name": "ml.r5.12xlarge",
    "vcpuNum": 48
   },
   {
    "_defaultOrder": 45,
    "_isFastLaunch": false,
    "category": "Memory Optimized",
    "gpuNum": 0,
    "hideHardwareSpecs": false,
    "memoryGiB": 512,
    "name": "ml.r5.16xlarge",
    "vcpuNum": 64
   },
   {
    "_defaultOrder": 46,
    "_isFastLaunch": false,
    "category": "Memory Optimized",
    "gpuNum": 0,
    "hideHardwareSpecs": false,
    "memoryGiB": 768,
    "name": "ml.r5.24xlarge",
    "vcpuNum": 96
   },
   {
    "_defaultOrder": 47,
    "_isFastLaunch": false,
    "category": "Accelerated computing",
    "gpuNum": 1,
    "hideHardwareSpecs": false,
    "memoryGiB": 16,
    "name": "ml.g5.xlarge",
    "vcpuNum": 4
   },
   {
    "_defaultOrder": 48,
    "_isFastLaunch": false,
    "category": "Accelerated computing",
    "gpuNum": 1,
    "hideHardwareSpecs": false,
    "memoryGiB": 32,
    "name": "ml.g5.2xlarge",
    "vcpuNum": 8
   },
   {
    "_defaultOrder": 49,
    "_isFastLaunch": false,
    "category": "Accelerated computing",
    "gpuNum": 1,
    "hideHardwareSpecs": false,
    "memoryGiB": 64,
    "name": "ml.g5.4xlarge",
    "vcpuNum": 16
   },
   {
    "_defaultOrder": 50,
    "_isFastLaunch": false,
    "category": "Accelerated computing",
    "gpuNum": 1,
    "hideHardwareSpecs": false,
    "memoryGiB": 128,
    "name": "ml.g5.8xlarge",
    "vcpuNum": 32
   },
   {
    "_defaultOrder": 51,
    "_isFastLaunch": false,
    "category": "Accelerated computing",
    "gpuNum": 1,
    "hideHardwareSpecs": false,
    "memoryGiB": 256,
    "name": "ml.g5.16xlarge",
    "vcpuNum": 64
   },
   {
    "_defaultOrder": 52,
    "_isFastLaunch": false,
    "category": "Accelerated computing",
    "gpuNum": 4,
    "hideHardwareSpecs": false,
    "memoryGiB": 192,
    "name": "ml.g5.12xlarge",
    "vcpuNum": 48
   },
   {
    "_defaultOrder": 53,
    "_isFastLaunch": false,
    "category": "Accelerated computing",
    "gpuNum": 4,
    "hideHardwareSpecs": false,
    "memoryGiB": 384,
    "name": "ml.g5.24xlarge",
    "vcpuNum": 96
   },
   {
    "_defaultOrder": 54,
    "_isFastLaunch": false,
    "category": "Accelerated computing",
    "gpuNum": 8,
    "hideHardwareSpecs": false,
    "memoryGiB": 768,
    "name": "ml.g5.48xlarge",
    "vcpuNum": 192
   },
   {
    "_defaultOrder": 55,
    "_isFastLaunch": false,
    "category": "Accelerated computing",
    "gpuNum": 8,
    "hideHardwareSpecs": false,
    "memoryGiB": 1152,
    "name": "ml.p4d.24xlarge",
    "vcpuNum": 96
   },
   {
    "_defaultOrder": 56,
    "_isFastLaunch": false,
    "category": "Accelerated computing",
    "gpuNum": 8,
    "hideHardwareSpecs": false,
    "memoryGiB": 1152,
    "name": "ml.p4de.24xlarge",
    "vcpuNum": 96
   },
   {
    "_defaultOrder": 57,
    "_isFastLaunch": false,
    "category": "Accelerated computing",
    "gpuNum": 0,
    "hideHardwareSpecs": false,
    "memoryGiB": 32,
    "name": "ml.trn1.2xlarge",
    "vcpuNum": 8
   },
   {
    "_defaultOrder": 58,
    "_isFastLaunch": false,
    "category": "Accelerated computing",
    "gpuNum": 0,
    "hideHardwareSpecs": false,
    "memoryGiB": 512,
    "name": "ml.trn1.32xlarge",
    "vcpuNum": 128
   },
   {
    "_defaultOrder": 59,
    "_isFastLaunch": false,
    "category": "Accelerated computing",
    "gpuNum": 0,
    "hideHardwareSpecs": false,
    "memoryGiB": 512,
    "name": "ml.trn1n.32xlarge",
    "vcpuNum": 128
   }
  ],
  "kernelspec": {
   "display_name": "Python 3 (Data Science 4.0)",
   "language": "python",
   "name": "python3__SAGEMAKER_INTERNAL__arn:aws:sagemaker:us-east-1:081325390199:image/sagemaker-data-science-311-v1"
  },
  "language_info": {
   "codemirror_mode": {
    "name": "ipython",
    "version": 3
   },
   "file_extension": ".py",
   "mimetype": "text/x-python",
   "name": "python",
   "nbconvert_exporter": "python",
   "pygments_lexer": "ipython3",
   "version": "3.11.9"
  }
 },
 "nbformat": 4,
 "nbformat_minor": 5
}
