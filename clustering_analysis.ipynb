{
 "cells": [
  {
   "cell_type": "code",
   "execution_count": 49,
   "metadata": {},
   "outputs": [],
   "source": [
    "import numpy as np\n",
    "import pandas as pd\n",
    "import matplotlib.pyplot as plt\n",
    "import seaborn as sns"
   ]
  },
  {
   "cell_type": "code",
   "execution_count": 50,
   "metadata": {},
   "outputs": [
    {
     "data": {
      "text/html": [
       "<div>\n",
       "<style scoped>\n",
       "    .dataframe tbody tr th:only-of-type {\n",
       "        vertical-align: middle;\n",
       "    }\n",
       "\n",
       "    .dataframe tbody tr th {\n",
       "        vertical-align: top;\n",
       "    }\n",
       "\n",
       "    .dataframe thead th {\n",
       "        text-align: right;\n",
       "    }\n",
       "</style>\n",
       "<table border=\"1\" class=\"dataframe\">\n",
       "  <thead>\n",
       "    <tr style=\"text-align: right;\">\n",
       "      <th></th>\n",
       "      <th>ID</th>\n",
       "      <th>X1</th>\n",
       "      <th>X2</th>\n",
       "      <th>X3</th>\n",
       "      <th>Z1</th>\n",
       "      <th>Z2</th>\n",
       "      <th>A</th>\n",
       "      <th>B</th>\n",
       "      <th>Y</th>\n",
       "    </tr>\n",
       "  </thead>\n",
       "  <tbody>\n",
       "    <tr>\n",
       "      <th>0</th>\n",
       "      <td>1001</td>\n",
       "      <td>6.44</td>\n",
       "      <td>2.0</td>\n",
       "      <td>1.00</td>\n",
       "      <td>5</td>\n",
       "      <td>16.0</td>\n",
       "      <td>738</td>\n",
       "      <td>0.0</td>\n",
       "      <td>11.0</td>\n",
       "    </tr>\n",
       "    <tr>\n",
       "      <th>1</th>\n",
       "      <td>1002</td>\n",
       "      <td>0.00</td>\n",
       "      <td>0.0</td>\n",
       "      <td>0.00</td>\n",
       "      <td>4</td>\n",
       "      <td>2.0</td>\n",
       "      <td>315</td>\n",
       "      <td>0.0</td>\n",
       "      <td>0.0</td>\n",
       "    </tr>\n",
       "    <tr>\n",
       "      <th>2</th>\n",
       "      <td>1003</td>\n",
       "      <td>18.50</td>\n",
       "      <td>3.0</td>\n",
       "      <td>2.50</td>\n",
       "      <td>108</td>\n",
       "      <td>64.0</td>\n",
       "      <td>11415</td>\n",
       "      <td>205302.1</td>\n",
       "      <td>21.0</td>\n",
       "    </tr>\n",
       "    <tr>\n",
       "      <th>3</th>\n",
       "      <td>1004</td>\n",
       "      <td>4.32</td>\n",
       "      <td>1.0</td>\n",
       "      <td>0.50</td>\n",
       "      <td>0</td>\n",
       "      <td>6.0</td>\n",
       "      <td>561</td>\n",
       "      <td>0.0</td>\n",
       "      <td>7.0</td>\n",
       "    </tr>\n",
       "    <tr>\n",
       "      <th>4</th>\n",
       "      <td>1005</td>\n",
       "      <td>0.00</td>\n",
       "      <td>0.0</td>\n",
       "      <td>7.16</td>\n",
       "      <td>890</td>\n",
       "      <td>55.0</td>\n",
       "      <td>0</td>\n",
       "      <td>0.0</td>\n",
       "      <td>0.0</td>\n",
       "    </tr>\n",
       "  </tbody>\n",
       "</table>\n",
       "</div>"
      ],
      "text/plain": [
       "     ID     X1   X2    X3   Z1    Z2      A         B     Y\n",
       "0  1001   6.44  2.0  1.00    5  16.0    738       0.0  11.0\n",
       "1  1002   0.00  0.0  0.00    4   2.0    315       0.0   0.0\n",
       "2  1003  18.50  3.0  2.50  108  64.0  11415  205302.1  21.0\n",
       "3  1004   4.32  1.0  0.50    0   6.0    561       0.0   7.0\n",
       "4  1005   0.00  0.0  7.16  890  55.0      0       0.0   0.0"
      ]
     },
     "execution_count": 50,
     "metadata": {},
     "output_type": "execute_result"
    }
   ],
   "source": [
    "data =  pd.read_excel('data/Data.xlsx')\n",
    "data.head()"
   ]
  },
  {
   "cell_type": "code",
   "execution_count": 51,
   "metadata": {},
   "outputs": [
    {
     "data": {
      "text/plain": [
       "(30, 9)"
      ]
     },
     "execution_count": 51,
     "metadata": {},
     "output_type": "execute_result"
    }
   ],
   "source": [
    "data_without_0 = data[data['Y'] != 0]\n",
    "data_without_0.shape"
   ]
  },
  {
   "cell_type": "markdown",
   "metadata": {},
   "source": [
    "### Data Splitting"
   ]
  },
  {
   "cell_type": "code",
   "execution_count": 52,
   "metadata": {},
   "outputs": [],
   "source": [
    "X = data_without_0.drop('Y',axis=1)\n",
    "X.drop('ID',axis=1,inplace=True)\n",
    "y = data_without_0['Y']\n"
   ]
  },
  {
   "cell_type": "markdown",
   "metadata": {},
   "source": [
    "#### Replacing null values with columns mean"
   ]
  },
  {
   "cell_type": "code",
   "execution_count": 53,
   "metadata": {},
   "outputs": [],
   "source": [
    "X.fillna(X.mean(),inplace=True)"
   ]
  },
  {
   "cell_type": "markdown",
   "metadata": {},
   "source": [
    "### Feature Scaling"
   ]
  },
  {
   "cell_type": "code",
   "execution_count": 54,
   "metadata": {},
   "outputs": [
    {
     "data": {
      "text/html": [
       "<div>\n",
       "<style scoped>\n",
       "    .dataframe tbody tr th:only-of-type {\n",
       "        vertical-align: middle;\n",
       "    }\n",
       "\n",
       "    .dataframe tbody tr th {\n",
       "        vertical-align: top;\n",
       "    }\n",
       "\n",
       "    .dataframe thead th {\n",
       "        text-align: right;\n",
       "    }\n",
       "</style>\n",
       "<table border=\"1\" class=\"dataframe\">\n",
       "  <thead>\n",
       "    <tr style=\"text-align: right;\">\n",
       "      <th></th>\n",
       "      <th>X1</th>\n",
       "      <th>X2</th>\n",
       "      <th>X3</th>\n",
       "      <th>Z1</th>\n",
       "      <th>Z2</th>\n",
       "      <th>A</th>\n",
       "      <th>B</th>\n",
       "    </tr>\n",
       "  </thead>\n",
       "  <tbody>\n",
       "    <tr>\n",
       "      <th>0</th>\n",
       "      <td>-1.107300</td>\n",
       "      <td>-0.603281</td>\n",
       "      <td>-0.789465</td>\n",
       "      <td>-0.859053</td>\n",
       "      <td>-0.827104</td>\n",
       "      <td>-1.157882</td>\n",
       "      <td>-0.665381</td>\n",
       "    </tr>\n",
       "    <tr>\n",
       "      <th>1</th>\n",
       "      <td>0.048193</td>\n",
       "      <td>-0.377559</td>\n",
       "      <td>-0.551212</td>\n",
       "      <td>-0.527534</td>\n",
       "      <td>-0.259667</td>\n",
       "      <td>0.186894</td>\n",
       "      <td>-0.584937</td>\n",
       "    </tr>\n",
       "    <tr>\n",
       "      <th>2</th>\n",
       "      <td>-1.310422</td>\n",
       "      <td>-0.829004</td>\n",
       "      <td>-0.868882</td>\n",
       "      <td>-0.875146</td>\n",
       "      <td>-0.945320</td>\n",
       "      <td>-1.180175</td>\n",
       "      <td>-0.665381</td>\n",
       "    </tr>\n",
       "    <tr>\n",
       "      <th>3</th>\n",
       "      <td>0.880800</td>\n",
       "      <td>0.714938</td>\n",
       "      <td>1.783668</td>\n",
       "      <td>0.125849</td>\n",
       "      <td>-0.354240</td>\n",
       "      <td>1.782061</td>\n",
       "      <td>1.991174</td>\n",
       "    </tr>\n",
       "    <tr>\n",
       "      <th>4</th>\n",
       "      <td>-0.123310</td>\n",
       "      <td>-0.151836</td>\n",
       "      <td>-0.630629</td>\n",
       "      <td>1.310305</td>\n",
       "      <td>0.567844</td>\n",
       "      <td>0.313223</td>\n",
       "      <td>-0.595456</td>\n",
       "    </tr>\n",
       "  </tbody>\n",
       "</table>\n",
       "</div>"
      ],
      "text/plain": [
       "         X1        X2        X3        Z1        Z2         A         B\n",
       "0 -1.107300 -0.603281 -0.789465 -0.859053 -0.827104 -1.157882 -0.665381\n",
       "1  0.048193 -0.377559 -0.551212 -0.527534 -0.259667  0.186894 -0.584937\n",
       "2 -1.310422 -0.829004 -0.868882 -0.875146 -0.945320 -1.180175 -0.665381\n",
       "3  0.880800  0.714938  1.783668  0.125849 -0.354240  1.782061  1.991174\n",
       "4 -0.123310 -0.151836 -0.630629  1.310305  0.567844  0.313223 -0.595456"
      ]
     },
     "execution_count": 54,
     "metadata": {},
     "output_type": "execute_result"
    }
   ],
   "source": [
    "# Scaling data \n",
    "from sklearn.preprocessing import StandardScaler\n",
    "scaler = StandardScaler()\n",
    "\n",
    "X_scaled = pd.DataFrame(scaler.fit_transform(X), columns=X.columns)\n",
    "X_scaled.head()"
   ]
  },
  {
   "cell_type": "code",
   "execution_count": 94,
   "metadata": {},
   "outputs": [
    {
     "data": {
      "text/plain": [
       "(28, 7)"
      ]
     },
     "execution_count": 94,
     "metadata": {},
     "output_type": "execute_result"
    }
   ],
   "source": [
    "# removing outliers using z score technique\n",
    "from scipy import stats\n",
    "z = np.abs(stats.zscore(X_scaled))\n",
    "X_scaled = X_scaled[(z < 3).all(axis=1)]\n",
    "# y = y[(z < 3).all(axis=1)]\n",
    "\n",
    "X_scaled.shape"
   ]
  },
  {
   "cell_type": "markdown",
   "metadata": {},
   "source": [
    "## Clustering"
   ]
  },
  {
   "cell_type": "code",
   "execution_count": 72,
   "metadata": {},
   "outputs": [
    {
     "name": "stderr",
     "output_type": "stream",
     "text": [
      "c:\\Users\\sathw\\anaconda3\\Lib\\site-packages\\sklearn\\cluster\\_kmeans.py:1429: UserWarning: KMeans is known to have a memory leak on Windows with MKL, when there are less chunks than available threads. You can avoid it by setting the environment variable OMP_NUM_THREADS=1.\n",
      "  warnings.warn(\n",
      "c:\\Users\\sathw\\anaconda3\\Lib\\site-packages\\sklearn\\cluster\\_kmeans.py:1429: UserWarning: KMeans is known to have a memory leak on Windows with MKL, when there are less chunks than available threads. You can avoid it by setting the environment variable OMP_NUM_THREADS=1.\n",
      "  warnings.warn(\n",
      "c:\\Users\\sathw\\anaconda3\\Lib\\site-packages\\sklearn\\cluster\\_kmeans.py:1429: UserWarning: KMeans is known to have a memory leak on Windows with MKL, when there are less chunks than available threads. You can avoid it by setting the environment variable OMP_NUM_THREADS=1.\n",
      "  warnings.warn(\n",
      "c:\\Users\\sathw\\anaconda3\\Lib\\site-packages\\sklearn\\cluster\\_kmeans.py:1429: UserWarning: KMeans is known to have a memory leak on Windows with MKL, when there are less chunks than available threads. You can avoid it by setting the environment variable OMP_NUM_THREADS=1.\n",
      "  warnings.warn(\n",
      "c:\\Users\\sathw\\anaconda3\\Lib\\site-packages\\sklearn\\cluster\\_kmeans.py:1429: UserWarning: KMeans is known to have a memory leak on Windows with MKL, when there are less chunks than available threads. You can avoid it by setting the environment variable OMP_NUM_THREADS=1.\n",
      "  warnings.warn(\n",
      "c:\\Users\\sathw\\anaconda3\\Lib\\site-packages\\sklearn\\cluster\\_kmeans.py:1429: UserWarning: KMeans is known to have a memory leak on Windows with MKL, when there are less chunks than available threads. You can avoid it by setting the environment variable OMP_NUM_THREADS=1.\n",
      "  warnings.warn(\n",
      "c:\\Users\\sathw\\anaconda3\\Lib\\site-packages\\sklearn\\cluster\\_kmeans.py:1429: UserWarning: KMeans is known to have a memory leak on Windows with MKL, when there are less chunks than available threads. You can avoid it by setting the environment variable OMP_NUM_THREADS=1.\n",
      "  warnings.warn(\n",
      "c:\\Users\\sathw\\anaconda3\\Lib\\site-packages\\sklearn\\cluster\\_kmeans.py:1429: UserWarning: KMeans is known to have a memory leak on Windows with MKL, when there are less chunks than available threads. You can avoid it by setting the environment variable OMP_NUM_THREADS=1.\n",
      "  warnings.warn(\n",
      "c:\\Users\\sathw\\anaconda3\\Lib\\site-packages\\sklearn\\cluster\\_kmeans.py:1429: UserWarning: KMeans is known to have a memory leak on Windows with MKL, when there are less chunks than available threads. You can avoid it by setting the environment variable OMP_NUM_THREADS=1.\n",
      "  warnings.warn(\n"
     ]
    },
    {
     "data": {
      "image/png": "[encoded data removed]",
      "text/plain": [
       "<Figure size 640x480 with 1 Axes>"
      ]
     },
     "metadata": {},
     "output_type": "display_data"
    }
   ],
   "source": [
    "#setting random seed for reporducibility\n",
    "np.random.seed(123)\n",
    "\n",
    "\n",
    "### Elbow Method\n",
    "\n",
    "# elbow method to determine the number of clusters\n",
    "inertia = []\n",
    "\n",
    "\n",
    "from sklearn.metrics import silhouette_score\n",
    "silhouette = []\n",
    "\n",
    "for i in range(2,11):\n",
    "    kmeans = KMeans(n_clusters=i)\n",
    "    kmeans.fit(X_scaled)\n",
    "    inertia.append(kmeans.inertia_)\n",
    "    silhouette.append(silhouette_score(X_scaled,kmeans.labels_))\n",
    "\n",
    "\n",
    "plt.plot(range(2,11),inertia)\n",
    "plt.title('Elbow Method')\n",
    "plt.xlabel('Number of clusters')\n",
    "plt.ylabel('Inertia')\n",
    "\n",
    "plt.show()"
   ]
  },
  {
   "cell_type": "code",
   "execution_count": 95,
   "metadata": {},
   "outputs": [
    {
     "data": {
      "image/png": "[encoded data removed]",
      "text/plain": [
       "<Figure size 640x480 with 1 Axes>"
      ]
     },
     "metadata": {},
     "output_type": "display_data"
    }
   ],
   "source": [
    "#po=lotting shiloutte score\n",
    "plt.plot(range(2,11),silhouette)\n",
    "plt.title('Silhouette Score')\n",
    "plt.xlabel('Number of clusters')\n",
    "plt.ylabel('Silhouette Score')\n",
    "\n",
    "plt.show()\n"
   ]
  },
  {
   "cell_type": "code",
   "execution_count": 80,
   "metadata": {},
   "outputs": [
    {
     "name": "stderr",
     "output_type": "stream",
     "text": [
      "c:\\Users\\sathw\\anaconda3\\Lib\\site-packages\\sklearn\\cluster\\_kmeans.py:1429: UserWarning: KMeans is known to have a memory leak on Windows with MKL, when there are less chunks than available threads. You can avoid it by setting the environment variable OMP_NUM_THREADS=1.\n",
      "  warnings.warn(\n"
     ]
    }
   ],
   "source": [
    "# clustering the data\n",
    "from sklearn.cluster import KMeans\n",
    "kmeans = KMeans(n_clusters=4)\n",
    "kmeans.fit(X_scaled)\n",
    "X['4_clusters_all_features'] = kmeans.predict(X_scaled)"
   ]
  },
  {
   "cell_type": "code",
   "execution_count": 81,
   "metadata": {},
   "outputs": [
    {
     "data": {
      "text/plain": [
       "4_clusters_all_features\n",
       "2    12\n",
       "0     9\n",
       "1     6\n",
       "3     3\n",
       "Name: count, dtype: int64"
      ]
     },
     "execution_count": 81,
     "metadata": {},
     "output_type": "execute_result"
    }
   ],
   "source": [
    "X['4_clusters_all_features'].value_counts()"
   ]
  },
  {
   "cell_type": "code",
   "execution_count": 91,
   "metadata": {},
   "outputs": [
    {
     "name": "stderr",
     "output_type": "stream",
     "text": [
      "c:\\Users\\sathw\\anaconda3\\Lib\\site-packages\\sklearn\\cluster\\_kmeans.py:1429: UserWarning: KMeans is known to have a memory leak on Windows with MKL, when there are less chunks than available threads. You can avoid it by setting the environment variable OMP_NUM_THREADS=1.\n",
      "  warnings.warn(\n"
     ]
    },
    {
     "data": {
      "text/plain": [
       "4_clusters_X1X2\n",
       "0    11\n",
       "3    10\n",
       "2     6\n",
       "1     3\n",
       "Name: count, dtype: int64"
      ]
     },
     "execution_count": 91,
     "metadata": {},
     "output_type": "execute_result"
    }
   ],
   "source": [
    "# clustering the data\n",
    "from sklearn.cluster import KMeans\n",
    "kmeans = KMeans(n_clusters=4)\n",
    "kmeans.fit(X_scaled[['X1','X2']])\n",
    "X['4_clusters_X1X2'] = kmeans.predict(X_scaled[['X1','X2']])\n",
    "\n",
    "X['4_clusters_X1X2'] .value_counts()\n"
   ]
  },
  {
   "cell_type": "code",
   "execution_count": 92,
   "metadata": {},
   "outputs": [
    {
     "data": {
      "image/png": "[encoded data removed]",
      "text/plain": [
       "<Figure size 1000x600 with 1 Axes>"
      ]
     },
     "metadata": {},
     "output_type": "display_data"
    }
   ],
   "source": [
    "# plotting the clusters, along with the centroids\n",
    "plt.figure(figsize=(10,6))\n",
    "plt.scatter(X_scaled['X1'],X_scaled['X2'],c=X['4_clusters_X1X2'],cmap='viridis')\n",
    "plt.scatter(kmeans.cluster_centers_[:,0],kmeans.cluster_centers_[:,1],s=300,c='red')\n",
    "plt.title('4 Clusters of X1 and X2')\n",
    "plt.show()"
   ]
  },
  {
   "cell_type": "code",
   "execution_count": 42,
   "metadata": {},
   "outputs": [
    {
     "data": {
      "text/plain": [
       "dbscan\n",
       "-1    24\n",
       " 0     3\n",
       " 1     3\n",
       "Name: count, dtype: int64"
      ]
     },
     "execution_count": 42,
     "metadata": {},
     "output_type": "execute_result"
    }
   ],
   "source": [
    "# DBScan Clustering\n",
    "from sklearn.cluster import DBSCAN\n",
    "dbscan = DBSCAN(eps=0.5,min_samples=3)\n",
    "X['dbscan'] = dbscan.fit_predict(X_scaled)\n",
    "\n",
    "X['dbscan'].value_counts()\n"
   ]
  },
  {
   "cell_type": "code",
   "execution_count": 43,
   "metadata": {},
   "outputs": [
    {
     "data": {
      "image/png": "[encoded data removed]",
      "text/plain": [
       "<Figure size 1000x600 with 1 Axes>"
      ]
     },
     "metadata": {},
     "output_type": "display_data"
    }
   ],
   "source": [
    "# poltting DBScan clusters with centroids\n",
    "plt.figure(figsize=(10,6))\n",
    "plt.scatter(X_scaled['X1'],X_scaled['X2'],c=X['dbscan'],cmap='viridis')\n",
    "plt.title('DBScan Clustering')\n",
    "plt.show()"
   ]
  },
  {
   "cell_type": "code",
   "execution_count": 44,
   "metadata": {},
   "outputs": [
    {
     "data": {
      "text/html": [
       "<div>\n",
       "<style scoped>\n",
       "    .dataframe tbody tr th:only-of-type {\n",
       "        vertical-align: middle;\n",
       "    }\n",
       "\n",
       "    .dataframe tbody tr th {\n",
       "        vertical-align: top;\n",
       "    }\n",
       "\n",
       "    .dataframe thead th {\n",
       "        text-align: right;\n",
       "    }\n",
       "</style>\n",
       "<table border=\"1\" class=\"dataframe\">\n",
       "  <thead>\n",
       "    <tr style=\"text-align: right;\">\n",
       "      <th></th>\n",
       "      <th>X1</th>\n",
       "      <th>X2</th>\n",
       "      <th>X3</th>\n",
       "      <th>Z1</th>\n",
       "      <th>Z2</th>\n",
       "      <th>A</th>\n",
       "      <th>B</th>\n",
       "    </tr>\n",
       "  </thead>\n",
       "  <tbody>\n",
       "    <tr>\n",
       "      <th>0</th>\n",
       "      <td>-1.107300</td>\n",
       "      <td>-0.603281</td>\n",
       "      <td>-0.789465</td>\n",
       "      <td>-0.859053</td>\n",
       "      <td>-0.827104</td>\n",
       "      <td>-1.157882</td>\n",
       "      <td>-0.665381</td>\n",
       "    </tr>\n",
       "    <tr>\n",
       "      <th>1</th>\n",
       "      <td>0.048193</td>\n",
       "      <td>-0.377559</td>\n",
       "      <td>-0.551212</td>\n",
       "      <td>-0.527534</td>\n",
       "      <td>-0.259667</td>\n",
       "      <td>0.186894</td>\n",
       "      <td>-0.584937</td>\n",
       "    </tr>\n",
       "    <tr>\n",
       "      <th>2</th>\n",
       "      <td>-1.310422</td>\n",
       "      <td>-0.829004</td>\n",
       "      <td>-0.868882</td>\n",
       "      <td>-0.875146</td>\n",
       "      <td>-0.945320</td>\n",
       "      <td>-1.180175</td>\n",
       "      <td>-0.665381</td>\n",
       "    </tr>\n",
       "    <tr>\n",
       "      <th>3</th>\n",
       "      <td>0.880800</td>\n",
       "      <td>0.714938</td>\n",
       "      <td>1.783668</td>\n",
       "      <td>0.125849</td>\n",
       "      <td>-0.354240</td>\n",
       "      <td>1.782061</td>\n",
       "      <td>1.991174</td>\n",
       "    </tr>\n",
       "    <tr>\n",
       "      <th>4</th>\n",
       "      <td>-0.123310</td>\n",
       "      <td>-0.151836</td>\n",
       "      <td>-0.630629</td>\n",
       "      <td>1.310305</td>\n",
       "      <td>0.567844</td>\n",
       "      <td>0.313223</td>\n",
       "      <td>-0.595456</td>\n",
       "    </tr>\n",
       "    <tr>\n",
       "      <th>5</th>\n",
       "      <td>-0.526679</td>\n",
       "      <td>-0.603281</td>\n",
       "      <td>-0.710047</td>\n",
       "      <td>-0.698121</td>\n",
       "      <td>-0.957141</td>\n",
       "      <td>-0.475103</td>\n",
       "      <td>-0.206645</td>\n",
       "    </tr>\n",
       "    <tr>\n",
       "      <th>6</th>\n",
       "      <td>0.413237</td>\n",
       "      <td>0.073887</td>\n",
       "      <td>1.116560</td>\n",
       "      <td>-0.459943</td>\n",
       "      <td>-0.555207</td>\n",
       "      <td>-0.017020</td>\n",
       "      <td>1.713666</td>\n",
       "    </tr>\n",
       "    <tr>\n",
       "      <th>7</th>\n",
       "      <td>0.383536</td>\n",
       "      <td>-0.377559</td>\n",
       "      <td>-0.471794</td>\n",
       "      <td>2.060246</td>\n",
       "      <td>-0.188738</td>\n",
       "      <td>0.131854</td>\n",
       "      <td>-0.652370</td>\n",
       "    </tr>\n",
       "    <tr>\n",
       "      <th>8</th>\n",
       "      <td>-1.417731</td>\n",
       "      <td>-0.377559</td>\n",
       "      <td>-0.789465</td>\n",
       "      <td>-0.839741</td>\n",
       "      <td>-0.401527</td>\n",
       "      <td>-1.086468</td>\n",
       "      <td>-0.589859</td>\n",
       "    </tr>\n",
       "    <tr>\n",
       "      <th>9</th>\n",
       "      <td>1.348363</td>\n",
       "      <td>2.103132</td>\n",
       "      <td>-0.154123</td>\n",
       "      <td>0.045383</td>\n",
       "      <td>-0.023236</td>\n",
       "      <td>1.226870</td>\n",
       "      <td>-0.638102</td>\n",
       "    </tr>\n",
       "    <tr>\n",
       "      <th>10</th>\n",
       "      <td>-0.800701</td>\n",
       "      <td>-0.603281</td>\n",
       "      <td>-0.630629</td>\n",
       "      <td>-0.624093</td>\n",
       "      <td>-0.555207</td>\n",
       "      <td>-0.415780</td>\n",
       "      <td>-0.574159</td>\n",
       "    </tr>\n",
       "    <tr>\n",
       "      <th>11</th>\n",
       "      <td>0.876968</td>\n",
       "      <td>-0.829004</td>\n",
       "      <td>-0.312959</td>\n",
       "      <td>-0.276481</td>\n",
       "      <td>-0.460634</td>\n",
       "      <td>-0.299906</td>\n",
       "      <td>-0.631550</td>\n",
       "    </tr>\n",
       "    <tr>\n",
       "      <th>12</th>\n",
       "      <td>0.278142</td>\n",
       "      <td>-0.377559</td>\n",
       "      <td>-0.177949</td>\n",
       "      <td>-0.080144</td>\n",
       "      <td>2.045543</td>\n",
       "      <td>-0.295497</td>\n",
       "      <td>0.032611</td>\n",
       "    </tr>\n",
       "    <tr>\n",
       "      <th>13</th>\n",
       "      <td>-1.197363</td>\n",
       "      <td>-0.377559</td>\n",
       "      <td>-0.789465</td>\n",
       "      <td>-0.572595</td>\n",
       "      <td>-1.016249</td>\n",
       "      <td>-1.036843</td>\n",
       "      <td>-0.665381</td>\n",
       "    </tr>\n",
       "    <tr>\n",
       "      <th>14</th>\n",
       "      <td>-0.766209</td>\n",
       "      <td>-0.194723</td>\n",
       "      <td>-0.630629</td>\n",
       "      <td>-0.659498</td>\n",
       "      <td>-0.886212</td>\n",
       "      <td>-0.216904</td>\n",
       "      <td>-0.481861</td>\n",
       "    </tr>\n",
       "    <tr>\n",
       "      <th>15</th>\n",
       "      <td>1.274588</td>\n",
       "      <td>1.444022</td>\n",
       "      <td>-0.471794</td>\n",
       "      <td>-0.459943</td>\n",
       "      <td>2.163759</td>\n",
       "      <td>0.771306</td>\n",
       "      <td>-0.565525</td>\n",
       "    </tr>\n",
       "    <tr>\n",
       "      <th>16</th>\n",
       "      <td>0.027115</td>\n",
       "      <td>-1.054726</td>\n",
       "      <td>2.784331</td>\n",
       "      <td>-0.781806</td>\n",
       "      <td>-0.980785</td>\n",
       "      <td>-1.175011</td>\n",
       "      <td>-0.665381</td>\n",
       "    </tr>\n",
       "    <tr>\n",
       "      <th>17</th>\n",
       "      <td>1.437468</td>\n",
       "      <td>3.633531</td>\n",
       "      <td>-0.154123</td>\n",
       "      <td>1.085001</td>\n",
       "      <td>2.719374</td>\n",
       "      <td>2.717371</td>\n",
       "      <td>-0.019236</td>\n",
       "    </tr>\n",
       "    <tr>\n",
       "      <th>18</th>\n",
       "      <td>0.921999</td>\n",
       "      <td>0.751054</td>\n",
       "      <td>1.932974</td>\n",
       "      <td>1.110750</td>\n",
       "      <td>0.697882</td>\n",
       "      <td>2.156638</td>\n",
       "      <td>1.984481</td>\n",
       "    </tr>\n",
       "    <tr>\n",
       "      <th>19</th>\n",
       "      <td>-0.584166</td>\n",
       "      <td>-0.377559</td>\n",
       "      <td>-0.789465</td>\n",
       "      <td>-0.640186</td>\n",
       "      <td>-0.697066</td>\n",
       "      <td>-0.217408</td>\n",
       "      <td>-0.617877</td>\n",
       "    </tr>\n",
       "    <tr>\n",
       "      <th>20</th>\n",
       "      <td>1.403934</td>\n",
       "      <td>0.751054</td>\n",
       "      <td>1.172152</td>\n",
       "      <td>-0.208889</td>\n",
       "      <td>-0.354240</td>\n",
       "      <td>0.377584</td>\n",
       "      <td>1.534798</td>\n",
       "    </tr>\n",
       "    <tr>\n",
       "      <th>21</th>\n",
       "      <td>-0.081153</td>\n",
       "      <td>0.721710</td>\n",
       "      <td>1.037142</td>\n",
       "      <td>1.194434</td>\n",
       "      <td>0.154088</td>\n",
       "      <td>0.143063</td>\n",
       "      <td>1.991174</td>\n",
       "    </tr>\n",
       "    <tr>\n",
       "      <th>22</th>\n",
       "      <td>0.666181</td>\n",
       "      <td>-0.829004</td>\n",
       "      <td>-0.630629</td>\n",
       "      <td>1.081782</td>\n",
       "      <td>-0.105987</td>\n",
       "      <td>-0.329630</td>\n",
       "      <td>-0.572665</td>\n",
       "    </tr>\n",
       "    <tr>\n",
       "      <th>23</th>\n",
       "      <td>2.297861</td>\n",
       "      <td>-0.377559</td>\n",
       "      <td>1.434230</td>\n",
       "      <td>3.344481</td>\n",
       "      <td>1.631787</td>\n",
       "      <td>1.055325</td>\n",
       "      <td>2.433203</td>\n",
       "    </tr>\n",
       "    <tr>\n",
       "      <th>24</th>\n",
       "      <td>-0.586082</td>\n",
       "      <td>-0.607796</td>\n",
       "      <td>0.322383</td>\n",
       "      <td>-0.826867</td>\n",
       "      <td>-0.862569</td>\n",
       "      <td>-1.132818</td>\n",
       "      <td>-0.401582</td>\n",
       "    </tr>\n",
       "    <tr>\n",
       "      <th>25</th>\n",
       "      <td>-0.179839</td>\n",
       "      <td>-0.829004</td>\n",
       "      <td>-0.630629</td>\n",
       "      <td>-0.318323</td>\n",
       "      <td>1.241675</td>\n",
       "      <td>-0.266151</td>\n",
       "      <td>-0.403353</td>\n",
       "    </tr>\n",
       "    <tr>\n",
       "      <th>26</th>\n",
       "      <td>-0.584166</td>\n",
       "      <td>0.942918</td>\n",
       "      <td>0.957724</td>\n",
       "      <td>0.084006</td>\n",
       "      <td>0.000000</td>\n",
       "      <td>-0.735695</td>\n",
       "      <td>0.054519</td>\n",
       "    </tr>\n",
       "    <tr>\n",
       "      <th>27</th>\n",
       "      <td>0.158377</td>\n",
       "      <td>-0.829004</td>\n",
       "      <td>-0.630629</td>\n",
       "      <td>-0.105893</td>\n",
       "      <td>-0.366062</td>\n",
       "      <td>0.835792</td>\n",
       "      <td>-0.229856</td>\n",
       "    </tr>\n",
       "    <tr>\n",
       "      <th>28</th>\n",
       "      <td>-1.714749</td>\n",
       "      <td>-0.377559</td>\n",
       "      <td>-0.857764</td>\n",
       "      <td>-0.791462</td>\n",
       "      <td>-0.767996</td>\n",
       "      <td>-1.096166</td>\n",
       "      <td>-0.665381</td>\n",
       "    </tr>\n",
       "    <tr>\n",
       "      <th>29</th>\n",
       "      <td>-1.436894</td>\n",
       "      <td>-0.151836</td>\n",
       "      <td>-0.868882</td>\n",
       "      <td>-0.836522</td>\n",
       "      <td>0.343234</td>\n",
       "      <td>-0.563521</td>\n",
       "      <td>-0.643690</td>\n",
       "    </tr>\n",
       "  </tbody>\n",
       "</table>\n",
       "</div>"
      ],
      "text/plain": [
       "          X1        X2        X3        Z1        Z2         A         B\n",
       "0  -1.107300 -0.603281 -0.789465 -0.859053 -0.827104 -1.157882 -0.665381\n",
       "1   0.048193 -0.377559 -0.551212 -0.527534 -0.259667  0.186894 -0.584937\n",
       "2  -1.310422 -0.829004 -0.868882 -0.875146 -0.945320 -1.180175 -0.665381\n",
       "3   0.880800  0.714938  1.783668  0.125849 -0.354240  1.782061  1.991174\n",
       "4  -0.123310 -0.151836 -0.630629  1.310305  0.567844  0.313223 -0.595456\n",
       "5  -0.526679 -0.603281 -0.710047 -0.698121 -0.957141 -0.475103 -0.206645\n",
       "6   0.413237  0.073887  1.116560 -0.459943 -0.555207 -0.017020  1.713666\n",
       "7   0.383536 -0.377559 -0.471794  2.060246 -0.188738  0.131854 -0.652370\n",
       "8  -1.417731 -0.377559 -0.789465 -0.839741 -0.401527 -1.086468 -0.589859\n",
       "9   1.348363  2.103132 -0.154123  0.045383 -0.023236  1.226870 -0.638102\n",
       "10 -0.800701 -0.603281 -0.630629 -0.624093 -0.555207 -0.415780 -0.574159\n",
       "11  0.876968 -0.829004 -0.312959 -0.276481 -0.460634 -0.299906 -0.631550\n",
       "12  0.278142 -0.377559 -0.177949 -0.080144  2.045543 -0.295497  0.032611\n",
       "13 -1.197363 -0.377559 -0.789465 -0.572595 -1.016249 -1.036843 -0.665381\n",
       "14 -0.766209 -0.194723 -0.630629 -0.659498 -0.886212 -0.216904 -0.481861\n",
       "15  1.274588  1.444022 -0.471794 -0.459943  2.163759  0.771306 -0.565525\n",
       "16  0.027115 -1.054726  2.784331 -0.781806 -0.980785 -1.175011 -0.665381\n",
       "17  1.437468  3.633531 -0.154123  1.085001  2.719374  2.717371 -0.019236\n",
       "18  0.921999  0.751054  1.932974  1.110750  0.697882  2.156638  1.984481\n",
       "19 -0.584166 -0.377559 -0.789465 -0.640186 -0.697066 -0.217408 -0.617877\n",
       "20  1.403934  0.751054  1.172152 -0.208889 -0.354240  0.377584  1.534798\n",
       "21 -0.081153  0.721710  1.037142  1.194434  0.154088  0.143063  1.991174\n",
       "22  0.666181 -0.829004 -0.630629  1.081782 -0.105987 -0.329630 -0.572665\n",
       "23  2.297861 -0.377559  1.434230  3.344481  1.631787  1.055325  2.433203\n",
       "24 -0.586082 -0.607796  0.322383 -0.826867 -0.862569 -1.132818 -0.401582\n",
       "25 -0.179839 -0.829004 -0.630629 -0.318323  1.241675 -0.266151 -0.403353\n",
       "26 -0.584166  0.942918  0.957724  0.084006  0.000000 -0.735695  0.054519\n",
       "27  0.158377 -0.829004 -0.630629 -0.105893 -0.366062  0.835792 -0.229856\n",
       "28 -1.714749 -0.377559 -0.857764 -0.791462 -0.767996 -1.096166 -0.665381\n",
       "29 -1.436894 -0.151836 -0.868882 -0.836522  0.343234 -0.563521 -0.643690"
      ]
     },
     "execution_count": 44,
     "metadata": {},
     "output_type": "execute_result"
    }
   ],
   "source": [
    "X_scaled"
   ]
  },
  {
   "cell_type": "code",
   "execution_count": null,
   "metadata": {},
   "outputs": [],
   "source": []
  },
  {
   "cell_type": "code",
   "execution_count": 23,
   "metadata": {},
   "outputs": [
    {
     "data": {
      "text/plain": [
       "array([0.55123349, 0.18876988, 0.10625891, 0.05242599, 0.04850858])"
      ]
     },
     "execution_count": 23,
     "metadata": {},
     "output_type": "execute_result"
    }
   ],
   "source": [
    "#PCA to extract the first two principal components\n",
    "from sklearn.decomposition import PCA\n",
    "pca = PCA(n_components=5)\n",
    "pca.fit(X_scaled)\n",
    "X_pca = pca.transform(X_scaled)\n",
    "\n",
    "\n",
    "pca.explained_variance_ratio_\n"
   ]
  },
  {
   "cell_type": "code",
   "execution_count": 24,
   "metadata": {},
   "outputs": [
    {
     "name": "stderr",
     "output_type": "stream",
     "text": [
      "c:\\Users\\sathw\\anaconda3\\Lib\\site-packages\\sklearn\\cluster\\_kmeans.py:1429: UserWarning: KMeans is known to have a memory leak on Windows with MKL, when there are less chunks than available threads. You can avoid it by setting the environment variable OMP_NUM_THREADS=1.\n",
      "  warnings.warn(\n"
     ]
    },
    {
     "data": {
      "image/png": "[encoded data removed]",
      "text/plain": [
       "<Figure size 1000x600 with 1 Axes>"
      ]
     },
     "metadata": {},
     "output_type": "display_data"
    }
   ],
   "source": [
    "# perfroming clustering on the first two principal components\n",
    "kmeans = KMeans(n_clusters=4)\n",
    "kmeans.fit(X_pca)\n",
    "X['4_clusters_pca'] = kmeans.predict(X_pca)\n",
    "\n",
    "# plotting the clusters, along with the centroids\n",
    "plt.figure(figsize=(10,6))\n",
    "plt.scatter(X_pca[:,0],X_pca[:,1],c=X['4_clusters_pca'],cmap='viridis')\n",
    "plt.scatter(kmeans.cluster_centers_[:,0],kmeans.cluster_centers_[:,1],s=300,c='red')\n",
    "plt.title('4 Clusters of PCA')\n",
    "plt.show()\n"
   ]
  },
  {
   "cell_type": "code",
   "execution_count": null,
   "metadata": {},
   "outputs": [],
   "source": []
  }
 ],
 "metadata": {
  "kernelspec": {
   "display_name": "base",
   "language": "python",
   "name": "python3"
  },
  "language_info": {
   "codemirror_mode": {
    "name": "ipython",
    "version": 3
   },
   "file_extension": ".py",
   "mimetype": "text/x-python",
   "name": "python",
   "nbconvert_exporter": "python",
   "pygments_lexer": "ipython3",
   "version": "3.11.5"
  }
 },
 "nbformat": 4,
 "nbformat_minor": 2
}
