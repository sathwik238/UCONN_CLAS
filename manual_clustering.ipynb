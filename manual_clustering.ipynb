{
 "cells": [
  {
   "cell_type": "code",
   "execution_count": 2,
   "id": "5fd68d23-7c95-47e1-8dba-2b5609191b37",
   "metadata": {
    "tags": []
   },
   "outputs": [],
   "source": [
    "import numpy as np\n",
    "import pandas as pd\n",
    "import matplotlib.pyplot as plt\n",
    "import seaborn as sns\n",
    "\n",
    "# ! pip install seaborn"
   ]
  },
  {
   "cell_type": "code",
   "execution_count": 3,
   "id": "b0397e76-a8f0-48cd-8871-2412f729d253",
   "metadata": {
    "tags": []
   },
   "outputs": [
    {
     "data": {
      "text/html": [
       "<div>\n",
       "<style scoped>\n",
       "    .dataframe tbody tr th:only-of-type {\n",
       "        vertical-align: middle;\n",
       "    }\n",
       "\n",
       "    .dataframe tbody tr th {\n",
       "        vertical-align: top;\n",
       "    }\n",
       "\n",
       "    .dataframe thead th {\n",
       "        text-align: right;\n",
       "    }\n",
       "</style>\n",
       "<table border=\"1\" class=\"dataframe\">\n",
       "  <thead>\n",
       "    <tr style=\"text-align: right;\">\n",
       "      <th></th>\n",
       "      <th>ID</th>\n",
       "      <th>X1</th>\n",
       "      <th>X2</th>\n",
       "      <th>X3</th>\n",
       "      <th>Z1</th>\n",
       "      <th>Z2</th>\n",
       "      <th>A</th>\n",
       "      <th>B</th>\n",
       "      <th>Y</th>\n",
       "    </tr>\n",
       "  </thead>\n",
       "  <tbody>\n",
       "    <tr>\n",
       "      <th>0</th>\n",
       "      <td>1001</td>\n",
       "      <td>6.44</td>\n",
       "      <td>2.0</td>\n",
       "      <td>1.00</td>\n",
       "      <td>5</td>\n",
       "      <td>16.0</td>\n",
       "      <td>738</td>\n",
       "      <td>0.0</td>\n",
       "      <td>11.0</td>\n",
       "    </tr>\n",
       "    <tr>\n",
       "      <th>1</th>\n",
       "      <td>1002</td>\n",
       "      <td>0.00</td>\n",
       "      <td>0.0</td>\n",
       "      <td>0.00</td>\n",
       "      <td>4</td>\n",
       "      <td>2.0</td>\n",
       "      <td>315</td>\n",
       "      <td>0.0</td>\n",
       "      <td>0.0</td>\n",
       "    </tr>\n",
       "    <tr>\n",
       "      <th>2</th>\n",
       "      <td>1003</td>\n",
       "      <td>18.50</td>\n",
       "      <td>3.0</td>\n",
       "      <td>2.50</td>\n",
       "      <td>108</td>\n",
       "      <td>64.0</td>\n",
       "      <td>11415</td>\n",
       "      <td>205302.1</td>\n",
       "      <td>21.0</td>\n",
       "    </tr>\n",
       "    <tr>\n",
       "      <th>3</th>\n",
       "      <td>1004</td>\n",
       "      <td>4.32</td>\n",
       "      <td>1.0</td>\n",
       "      <td>0.50</td>\n",
       "      <td>0</td>\n",
       "      <td>6.0</td>\n",
       "      <td>561</td>\n",
       "      <td>0.0</td>\n",
       "      <td>7.0</td>\n",
       "    </tr>\n",
       "    <tr>\n",
       "      <th>4</th>\n",
       "      <td>1005</td>\n",
       "      <td>0.00</td>\n",
       "      <td>0.0</td>\n",
       "      <td>7.16</td>\n",
       "      <td>890</td>\n",
       "      <td>55.0</td>\n",
       "      <td>0</td>\n",
       "      <td>0.0</td>\n",
       "      <td>0.0</td>\n",
       "    </tr>\n",
       "  </tbody>\n",
       "</table>\n",
       "</div>"
      ],
      "text/plain": [
       "     ID     X1   X2    X3   Z1    Z2      A         B     Y\n",
       "0  1001   6.44  2.0  1.00    5  16.0    738       0.0  11.0\n",
       "1  1002   0.00  0.0  0.00    4   2.0    315       0.0   0.0\n",
       "2  1003  18.50  3.0  2.50  108  64.0  11415  205302.1  21.0\n",
       "3  1004   4.32  1.0  0.50    0   6.0    561       0.0   7.0\n",
       "4  1005   0.00  0.0  7.16  890  55.0      0       0.0   0.0"
      ]
     },
     "execution_count": 3,
     "metadata": {},
     "output_type": "execute_result"
    }
   ],
   "source": [
    "data =  pd.read_excel('data/Data.xlsx')\n",
    "data.head()"
   ]
  },
  {
   "cell_type": "code",
   "execution_count": 4,
   "id": "b32e4759-af03-4e16-a0b6-1a3df8d83f69",
   "metadata": {
    "tags": []
   },
   "outputs": [
    {
     "data": {
      "text/plain": [
       "(30, 9)"
      ]
     },
     "execution_count": 4,
     "metadata": {},
     "output_type": "execute_result"
    }
   ],
   "source": [
    "data_without_0 = data[data['Y'] != 0]\n",
    "data_without_0.shape"
   ]
  },
  {
   "cell_type": "code",
   "execution_count": 5,
   "id": "33a0db56-04ef-4dc2-badd-b4ecc489d141",
   "metadata": {
    "tags": []
   },
   "outputs": [],
   "source": [
    "X = data_without_0.drop('Y',axis=1).reset_index(drop=True)\n",
    "X.drop('ID',axis=1,inplace=True)\n",
    "y = data_without_0['Y'].reset_index(drop = True)\n"
   ]
  },
  {
   "cell_type": "code",
   "execution_count": 6,
   "id": "2826318e-76c0-4335-a846-2240ebc9f1d0",
   "metadata": {
    "tags": []
   },
   "outputs": [],
   "source": [
    "X.fillna(X.mean(),inplace=True)"
   ]
  },
  {
   "cell_type": "code",
   "execution_count": 7,
   "id": "4dbf1d99-a992-47bd-8c30-889e104fbf99",
   "metadata": {
    "tags": []
   },
   "outputs": [],
   "source": [
    "features =  list(X.columns)"
   ]
  },
  {
   "cell_type": "code",
   "execution_count": null,
   "id": "59b7334e-0372-49a6-b9ed-d103ff7d5614",
   "metadata": {},
   "outputs": [],
   "source": []
  },
  {
   "cell_type": "markdown",
   "id": "de78cf0b-e0c2-4d3c-b80f-e37ac9e67811",
   "metadata": {},
   "source": [
    "## Steps:\n",
    "1. Scale the data\n",
    "2. INitialize random centroids\n",
    "3. Label each data point\n",
    "4. Update Centroids\n",
    "5. Repeat Steps 3 and 4 until centroid stop changing"
   ]
  },
  {
   "cell_type": "markdown",
   "id": "dbf7a764-996a-4244-8935-56a891c780fb",
   "metadata": {},
   "source": [
    "## Scaling using MIn Max"
   ]
  },
  {
   "cell_type": "code",
   "execution_count": 8,
   "id": "69aa573a-ff30-4b1b-98ef-71861ff8f431",
   "metadata": {
    "tags": []
   },
   "outputs": [],
   "source": [
    "#Scaling to have values from 1 to 10\n",
    "X = (X - X.min()) / (X.max() - X.min()) * 9 + 1"
   ]
  },
  {
   "cell_type": "code",
   "execution_count": 9,
   "id": "e3f139bf-6eff-4297-8cb7-abd6a9886888",
   "metadata": {
    "tags": []
   },
   "outputs": [
    {
     "data": {
      "text/html": [
       "<div>\n",
       "<style scoped>\n",
       "    .dataframe tbody tr th:only-of-type {\n",
       "        vertical-align: middle;\n",
       "    }\n",
       "\n",
       "    .dataframe tbody tr th {\n",
       "        vertical-align: top;\n",
       "    }\n",
       "\n",
       "    .dataframe thead th {\n",
       "        text-align: right;\n",
       "    }\n",
       "</style>\n",
       "<table border=\"1\" class=\"dataframe\">\n",
       "  <thead>\n",
       "    <tr style=\"text-align: right;\">\n",
       "      <th></th>\n",
       "      <th>X1</th>\n",
       "      <th>X2</th>\n",
       "      <th>X3</th>\n",
       "      <th>Z1</th>\n",
       "      <th>Z2</th>\n",
       "      <th>A</th>\n",
       "      <th>B</th>\n",
       "    </tr>\n",
       "  </thead>\n",
       "  <tbody>\n",
       "    <tr>\n",
       "      <th>count</th>\n",
       "      <td>30.000000</td>\n",
       "      <td>30.000000</td>\n",
       "      <td>30.000000</td>\n",
       "      <td>30.000000</td>\n",
       "      <td>30.000000</td>\n",
       "      <td>30.000000</td>\n",
       "      <td>30.000000</td>\n",
       "    </tr>\n",
       "    <tr>\n",
       "      <th>mean</th>\n",
       "      <td>4.846060</td>\n",
       "      <td>3.024747</td>\n",
       "      <td>3.140565</td>\n",
       "      <td>2.866590</td>\n",
       "      <td>3.448385</td>\n",
       "      <td>3.725196</td>\n",
       "      <td>2.932634</td>\n",
       "    </tr>\n",
       "    <tr>\n",
       "      <th>std</th>\n",
       "      <td>2.281273</td>\n",
       "      <td>1.952508</td>\n",
       "      <td>2.505700</td>\n",
       "      <td>2.169352</td>\n",
       "      <td>2.450423</td>\n",
       "      <td>2.348621</td>\n",
       "      <td>2.954207</td>\n",
       "    </tr>\n",
       "    <tr>\n",
       "      <th>min</th>\n",
       "      <td>1.000000</td>\n",
       "      <td>1.000000</td>\n",
       "      <td>1.000000</td>\n",
       "      <td>1.000000</td>\n",
       "      <td>1.000000</td>\n",
       "      <td>1.000000</td>\n",
       "      <td>1.000000</td>\n",
       "    </tr>\n",
       "    <tr>\n",
       "      <th>25%</th>\n",
       "      <td>3.228510</td>\n",
       "      <td>1.866635</td>\n",
       "      <td>1.440217</td>\n",
       "      <td>1.398169</td>\n",
       "      <td>1.640823</td>\n",
       "      <td>2.125763</td>\n",
       "      <td>1.083992</td>\n",
       "    </tr>\n",
       "    <tr>\n",
       "      <th>50%</th>\n",
       "      <td>4.785458</td>\n",
       "      <td>2.299952</td>\n",
       "      <td>1.880435</td>\n",
       "      <td>2.036613</td>\n",
       "      <td>2.594937</td>\n",
       "      <td>3.166893</td>\n",
       "      <td>1.279668</td>\n",
       "    </tr>\n",
       "    <tr>\n",
       "      <th>75%</th>\n",
       "      <td>6.694842</td>\n",
       "      <td>4.089552</td>\n",
       "      <td>5.108696</td>\n",
       "      <td>3.112700</td>\n",
       "      <td>4.161392</td>\n",
       "      <td>4.559937</td>\n",
       "      <td>2.989707</td>\n",
       "    </tr>\n",
       "    <tr>\n",
       "      <th>max</th>\n",
       "      <td>10.000000</td>\n",
       "      <td>10.000000</td>\n",
       "      <td>10.000000</td>\n",
       "      <td>10.000000</td>\n",
       "      <td>10.000000</td>\n",
       "      <td>10.000000</td>\n",
       "      <td>10.000000</td>\n",
       "    </tr>\n",
       "  </tbody>\n",
       "</table>\n",
       "</div>"
      ],
      "text/plain": [
       "              X1         X2         X3         Z1         Z2          A  \\\n",
       "count  30.000000  30.000000  30.000000  30.000000  30.000000  30.000000   \n",
       "mean    4.846060   3.024747   3.140565   2.866590   3.448385   3.725196   \n",
       "std     2.281273   1.952508   2.505700   2.169352   2.450423   2.348621   \n",
       "min     1.000000   1.000000   1.000000   1.000000   1.000000   1.000000   \n",
       "25%     3.228510   1.866635   1.440217   1.398169   1.640823   2.125763   \n",
       "50%     4.785458   2.299952   1.880435   2.036613   2.594937   3.166893   \n",
       "75%     6.694842   4.089552   5.108696   3.112700   4.161392   4.559937   \n",
       "max    10.000000  10.000000  10.000000  10.000000  10.000000  10.000000   \n",
       "\n",
       "               B  \n",
       "count  30.000000  \n",
       "mean    2.932634  \n",
       "std     2.954207  \n",
       "min     1.000000  \n",
       "25%     1.083992  \n",
       "50%     1.279668  \n",
       "75%     2.989707  \n",
       "max    10.000000  "
      ]
     },
     "execution_count": 9,
     "metadata": {},
     "output_type": "execute_result"
    }
   ],
   "source": [
    "X.describe()"
   ]
  },
  {
   "cell_type": "code",
   "execution_count": 10,
   "id": "cfc46418-eb83-4fbe-bd44-215527aab8e3",
   "metadata": {
    "tags": []
   },
   "outputs": [
    {
     "data": {
      "text/html": [
       "<div>\n",
       "<style scoped>\n",
       "    .dataframe tbody tr th:only-of-type {\n",
       "        vertical-align: middle;\n",
       "    }\n",
       "\n",
       "    .dataframe tbody tr th {\n",
       "        vertical-align: top;\n",
       "    }\n",
       "\n",
       "    .dataframe thead th {\n",
       "        text-align: right;\n",
       "    }\n",
       "</style>\n",
       "<table border=\"1\" class=\"dataframe\">\n",
       "  <thead>\n",
       "    <tr style=\"text-align: right;\">\n",
       "      <th></th>\n",
       "      <th>X1</th>\n",
       "      <th>X2</th>\n",
       "      <th>X3</th>\n",
       "      <th>Z1</th>\n",
       "      <th>Z2</th>\n",
       "      <th>A</th>\n",
       "      <th>B</th>\n",
       "    </tr>\n",
       "  </thead>\n",
       "  <tbody>\n",
       "    <tr>\n",
       "      <th>0</th>\n",
       "      <td>2.362464</td>\n",
       "      <td>1.866635</td>\n",
       "      <td>1.195652</td>\n",
       "      <td>1.034325</td>\n",
       "      <td>1.455696</td>\n",
       "      <td>1.051478</td>\n",
       "      <td>1.000000</td>\n",
       "    </tr>\n",
       "    <tr>\n",
       "      <th>1</th>\n",
       "      <td>4.954155</td>\n",
       "      <td>2.299952</td>\n",
       "      <td>1.782609</td>\n",
       "      <td>1.741419</td>\n",
       "      <td>2.822785</td>\n",
       "      <td>4.156762</td>\n",
       "      <td>1.233654</td>\n",
       "    </tr>\n",
       "    <tr>\n",
       "      <th>2</th>\n",
       "      <td>1.906877</td>\n",
       "      <td>1.433317</td>\n",
       "      <td>1.000000</td>\n",
       "      <td>1.000000</td>\n",
       "      <td>1.170886</td>\n",
       "      <td>1.000000</td>\n",
       "      <td>1.000000</td>\n",
       "    </tr>\n",
       "    <tr>\n",
       "      <th>3</th>\n",
       "      <td>6.821633</td>\n",
       "      <td>4.397208</td>\n",
       "      <td>7.534783</td>\n",
       "      <td>3.135011</td>\n",
       "      <td>2.594937</td>\n",
       "      <td>7.840233</td>\n",
       "      <td>8.716105</td>\n",
       "    </tr>\n",
       "    <tr>\n",
       "      <th>4</th>\n",
       "      <td>4.569484</td>\n",
       "      <td>2.733269</td>\n",
       "      <td>1.586957</td>\n",
       "      <td>5.661327</td>\n",
       "      <td>4.816456</td>\n",
       "      <td>4.448473</td>\n",
       "      <td>1.203102</td>\n",
       "    </tr>\n",
       "  </tbody>\n",
       "</table>\n",
       "</div>"
      ],
      "text/plain": [
       "         X1        X2        X3        Z1        Z2         A         B\n",
       "0  2.362464  1.866635  1.195652  1.034325  1.455696  1.051478  1.000000\n",
       "1  4.954155  2.299952  1.782609  1.741419  2.822785  4.156762  1.233654\n",
       "2  1.906877  1.433317  1.000000  1.000000  1.170886  1.000000  1.000000\n",
       "3  6.821633  4.397208  7.534783  3.135011  2.594937  7.840233  8.716105\n",
       "4  4.569484  2.733269  1.586957  5.661327  4.816456  4.448473  1.203102"
      ]
     },
     "execution_count": 10,
     "metadata": {},
     "output_type": "execute_result"
    }
   ],
   "source": [
    "X.head()"
   ]
  },
  {
   "cell_type": "markdown",
   "id": "505f4cd0-6541-4ced-95a7-cbb8711100cd",
   "metadata": {},
   "source": [
    "## Initializing random centroids"
   ]
  },
  {
   "cell_type": "code",
   "execution_count": 11,
   "id": "c993d301-021b-41fb-80fc-faa78a5a432d",
   "metadata": {
    "tags": []
   },
   "outputs": [],
   "source": [
    "def random_centroids(X,k):\n",
    "    centroids = []\n",
    "\n",
    "    for i in range(k):\n",
    "        centroid = X.apply(lambda x : float(x.sample())) # random centroid\n",
    "        centroids.append(centroid)\n",
    "\n",
    "    return pd.concat(centroids,axis=1)\n",
    "\n"
   ]
  },
  {
   "cell_type": "code",
   "execution_count": 12,
   "id": "268628af-f4ee-4a18-b2a7-94d9921c6a25",
   "metadata": {
    "tags": []
   },
   "outputs": [
    {
     "name": "stderr",
     "output_type": "stream",
     "text": [
      "C:\\Users\\sathw\\AppData\\Local\\Temp\\ipykernel_23720\\1084653886.py:5: FutureWarning: Calling float on a single element Series is deprecated and will raise a TypeError in the future. Use float(ser.iloc[0]) instead\n",
      "  centroid = X.apply(lambda x : float(x.sample())) # random centroid\n"
     ]
    }
   ],
   "source": [
    "centroids = random_centroids(X,4)"
   ]
  },
  {
   "cell_type": "code",
   "execution_count": 13,
   "id": "f7ae9481-8ebe-4d35-99e8-914be7a961ad",
   "metadata": {
    "tags": []
   },
   "outputs": [
    {
     "data": {
      "text/html": [
       "<div>\n",
       "<style scoped>\n",
       "    .dataframe tbody tr th:only-of-type {\n",
       "        vertical-align: middle;\n",
       "    }\n",
       "\n",
       "    .dataframe tbody tr th {\n",
       "        vertical-align: top;\n",
       "    }\n",
       "\n",
       "    .dataframe thead th {\n",
       "        text-align: right;\n",
       "    }\n",
       "</style>\n",
       "<table border=\"1\" class=\"dataframe\">\n",
       "  <thead>\n",
       "    <tr style=\"text-align: right;\">\n",
       "      <th></th>\n",
       "      <th>0</th>\n",
       "      <th>1</th>\n",
       "      <th>2</th>\n",
       "      <th>3</th>\n",
       "    </tr>\n",
       "  </thead>\n",
       "  <tbody>\n",
       "    <tr>\n",
       "      <th>X1</th>\n",
       "      <td>5.201289</td>\n",
       "      <td>3.127507</td>\n",
       "      <td>2.362464</td>\n",
       "      <td>3.664756</td>\n",
       "    </tr>\n",
       "    <tr>\n",
       "      <th>X2</th>\n",
       "      <td>1.433317</td>\n",
       "      <td>2.650939</td>\n",
       "      <td>2.299952</td>\n",
       "      <td>2.299952</td>\n",
       "    </tr>\n",
       "    <tr>\n",
       "      <th>X3</th>\n",
       "      <td>6.028261</td>\n",
       "      <td>6.028261</td>\n",
       "      <td>1.978261</td>\n",
       "      <td>2.369565</td>\n",
       "    </tr>\n",
       "    <tr>\n",
       "      <th>Z1</th>\n",
       "      <td>10.000000</td>\n",
       "      <td>2.187643</td>\n",
       "      <td>1.645309</td>\n",
       "      <td>5.173913</td>\n",
       "    </tr>\n",
       "    <tr>\n",
       "      <th>Z2</th>\n",
       "      <td>2.566456</td>\n",
       "      <td>2.594937</td>\n",
       "      <td>1.598101</td>\n",
       "      <td>2.822785</td>\n",
       "    </tr>\n",
       "    <tr>\n",
       "      <th>A</th>\n",
       "      <td>4.029666</td>\n",
       "      <td>1.000000</td>\n",
       "      <td>6.162094</td>\n",
       "      <td>4.055550</td>\n",
       "    </tr>\n",
       "    <tr>\n",
       "      <th>B</th>\n",
       "      <td>1.000000</td>\n",
       "      <td>1.290038</td>\n",
       "      <td>8.696665</td>\n",
       "      <td>7.390535</td>\n",
       "    </tr>\n",
       "  </tbody>\n",
       "</table>\n",
       "</div>"
      ],
      "text/plain": [
       "            0         1         2         3\n",
       "X1   5.201289  3.127507  2.362464  3.664756\n",
       "X2   1.433317  2.650939  2.299952  2.299952\n",
       "X3   6.028261  6.028261  1.978261  2.369565\n",
       "Z1  10.000000  2.187643  1.645309  5.173913\n",
       "Z2   2.566456  2.594937  1.598101  2.822785\n",
       "A    4.029666  1.000000  6.162094  4.055550\n",
       "B    1.000000  1.290038  8.696665  7.390535"
      ]
     },
     "execution_count": 13,
     "metadata": {},
     "output_type": "execute_result"
    }
   ],
   "source": [
    "centroids"
   ]
  },
  {
   "cell_type": "code",
   "execution_count": 14,
   "id": "90fb8dfa-0955-41d8-9346-6fa210801183",
   "metadata": {
    "tags": []
   },
   "outputs": [],
   "source": [
    "def get_labels(X,centroids):\n",
    "    distances = centroids.apply(lambda x: np.sqrt(((X - x) **2).sum(axis = 1)))\n",
    "    return distances.idxmin(axis=1)\n",
    "    \n",
    "    "
   ]
  },
  {
   "cell_type": "code",
   "execution_count": 15,
   "id": "b80e5edf-b5d6-46ba-9558-1afd51af1916",
   "metadata": {
    "tags": []
   },
   "outputs": [],
   "source": [
    "labels = get_labels(X,centroids)"
   ]
  },
  {
   "cell_type": "code",
   "execution_count": 16,
   "id": "b5df8a49-c6e0-4d3c-aceb-5ff4c0951990",
   "metadata": {
    "tags": []
   },
   "outputs": [
    {
     "data": {
      "text/plain": [
       "1    20\n",
       "3     8\n",
       "2     1\n",
       "0     1\n",
       "Name: count, dtype: int64"
      ]
     },
     "execution_count": 16,
     "metadata": {},
     "output_type": "execute_result"
    }
   ],
   "source": [
    "labels.value_counts()"
   ]
  },
  {
   "cell_type": "code",
   "execution_count": 17,
   "id": "f4fe33c4-96e0-4488-91ad-bccb86f41de2",
   "metadata": {
    "tags": []
   },
   "outputs": [],
   "source": [
    "def new_centroids(X, labels,k):\n",
    "    return X.groupby(labels).apply(lambda x:np.exp(np.log(x).mean())).T"
   ]
  },
  {
   "cell_type": "code",
   "execution_count": 18,
   "id": "73e8473c-3b5e-422d-9d22-2a4ad9f7fd1e",
   "metadata": {
    "tags": []
   },
   "outputs": [],
   "source": [
    "from sklearn.decomposition import PCA\n",
    "import matplotlib.pyplot as plt\n",
    "from IPython.display import clear_output\n"
   ]
  },
  {
   "cell_type": "code",
   "execution_count": 19,
   "id": "1a177c92-e103-40b4-a3b6-6831683d41e3",
   "metadata": {
    "tags": []
   },
   "outputs": [],
   "source": [
    "def plot_clusters(X,labels, centroids, iteration):\n",
    "    pca = PCA(n_components=2)\n",
    "    data_2d = pca.fit_transform(X)\n",
    "    centroids_2d = pca.transform(centroids.T)\n",
    "    \n",
    "    clear_output(wait=True)\n",
    "    \n",
    "    plt.title(f'Iteration{iteration}')\n",
    "    plt.scatter(x = data_2d[:,0], y = data_2d[:,1], c = labels)\n",
    "    plt.scatter(x = centroids_2d[:,0], y = centroids_2d[:,1], c = 'red')\n",
    "    plt.show()"
   ]
  },
  {
   "cell_type": "code",
   "execution_count": 20,
   "id": "afd9460d-5b37-4164-8a69-310f594b9040",
   "metadata": {
    "tags": []
   },
   "outputs": [
    {
     "data": {
      "image/png": "[encoded data removed]",
      "text/plain": [
       "<Figure size 640x480 with 1 Axes>"
      ]
     },
     "metadata": {},
     "output_type": "display_data"
    }
   ],
   "source": [
    "max_iterations = 100\n",
    "k = 4\n",
    "\n",
    "centroids = random_centroids(X,k)\n",
    "# print(centroids)\n",
    "old_centroids = pd.DataFrame()\n",
    "iteration = 1\n",
    "\n",
    "while(iteration<max_iterations) and not centroids.equals(old_centroids):\n",
    "    old_centroids = centroids\n",
    "    \n",
    "    labels = get_labels(X,centroids)\n",
    "    # print(labels)\n",
    "    # print(old_centroids)\n",
    "        \n",
    "    centroids = new_centroids(X, labels, k)\n",
    "    # print(centroids)\n",
    "    plot_clusters(X,labels,centroids, iteration)\n",
    "    \n",
    "    iteration += 1"
   ]
  },
  {
   "cell_type": "code",
   "execution_count": 21,
   "id": "5b03de62-7d6b-4ec8-9956-a3c361758b0e",
   "metadata": {
    "tags": []
   },
   "outputs": [
    {
     "data": {
      "text/html": [
       "<div>\n",
       "<style scoped>\n",
       "    .dataframe tbody tr th:only-of-type {\n",
       "        vertical-align: middle;\n",
       "    }\n",
       "\n",
       "    .dataframe tbody tr th {\n",
       "        vertical-align: top;\n",
       "    }\n",
       "\n",
       "    .dataframe thead th {\n",
       "        text-align: right;\n",
       "    }\n",
       "</style>\n",
       "<table border=\"1\" class=\"dataframe\">\n",
       "  <thead>\n",
       "    <tr style=\"text-align: right;\">\n",
       "      <th></th>\n",
       "      <th>0</th>\n",
       "      <th>1</th>\n",
       "      <th>2</th>\n",
       "      <th>3</th>\n",
       "    </tr>\n",
       "  </thead>\n",
       "  <tbody>\n",
       "    <tr>\n",
       "      <th>X1</th>\n",
       "      <td>2.245115</td>\n",
       "      <td>5.795803</td>\n",
       "      <td>6.994922</td>\n",
       "      <td>3.942322</td>\n",
       "    </tr>\n",
       "    <tr>\n",
       "      <th>X2</th>\n",
       "      <td>2.126414</td>\n",
       "      <td>2.376475</td>\n",
       "      <td>4.322135</td>\n",
       "      <td>2.078774</td>\n",
       "    </tr>\n",
       "    <tr>\n",
       "      <th>X3</th>\n",
       "      <td>1.220874</td>\n",
       "      <td>1.946844</td>\n",
       "      <td>5.804234</td>\n",
       "      <td>6.003822</td>\n",
       "    </tr>\n",
       "    <tr>\n",
       "      <th>Z1</th>\n",
       "      <td>1.268921</td>\n",
       "      <td>3.065893</td>\n",
       "      <td>4.144891</td>\n",
       "      <td>1.591124</td>\n",
       "    </tr>\n",
       "    <tr>\n",
       "      <th>Z2</th>\n",
       "      <td>1.663080</td>\n",
       "      <td>4.066440</td>\n",
       "      <td>4.131630</td>\n",
       "      <td>1.724545</td>\n",
       "    </tr>\n",
       "    <tr>\n",
       "      <th>A</th>\n",
       "      <td>1.807441</td>\n",
       "      <td>4.085223</td>\n",
       "      <td>6.027402</td>\n",
       "      <td>1.315162</td>\n",
       "    </tr>\n",
       "    <tr>\n",
       "      <th>B</th>\n",
       "      <td>1.208993</td>\n",
       "      <td>1.431366</td>\n",
       "      <td>7.306000</td>\n",
       "      <td>1.760816</td>\n",
       "    </tr>\n",
       "  </tbody>\n",
       "</table>\n",
       "</div>"
      ],
      "text/plain": [
       "           0         1         2         3\n",
       "X1  2.245115  5.795803  6.994922  3.942322\n",
       "X2  2.126414  2.376475  4.322135  2.078774\n",
       "X3  1.220874  1.946844  5.804234  6.003822\n",
       "Z1  1.268921  3.065893  4.144891  1.591124\n",
       "Z2  1.663080  4.066440  4.131630  1.724545\n",
       "A   1.807441  4.085223  6.027402  1.315162\n",
       "B   1.208993  1.431366  7.306000  1.760816"
      ]
     },
     "execution_count": 21,
     "metadata": {},
     "output_type": "execute_result"
    }
   ],
   "source": [
    "centroids"
   ]
  },
  {
   "cell_type": "code",
   "execution_count": 22,
   "id": "6d92b258-1ee6-4b4d-b86d-f71222d2ca99",
   "metadata": {
    "tags": []
   },
   "outputs": [
    {
     "data": {
      "text/html": [
       "<div>\n",
       "<style scoped>\n",
       "    .dataframe tbody tr th:only-of-type {\n",
       "        vertical-align: middle;\n",
       "    }\n",
       "\n",
       "    .dataframe tbody tr th {\n",
       "        vertical-align: top;\n",
       "    }\n",
       "\n",
       "    .dataframe thead th {\n",
       "        text-align: right;\n",
       "    }\n",
       "</style>\n",
       "<table border=\"1\" class=\"dataframe\">\n",
       "  <thead>\n",
       "    <tr style=\"text-align: right;\">\n",
       "      <th></th>\n",
       "      <th>X1</th>\n",
       "      <th>X2</th>\n",
       "      <th>X3</th>\n",
       "      <th>Z1</th>\n",
       "      <th>Z2</th>\n",
       "      <th>A</th>\n",
       "      <th>B</th>\n",
       "    </tr>\n",
       "  </thead>\n",
       "  <tbody>\n",
       "    <tr>\n",
       "      <th>1</th>\n",
       "      <td>4.954155</td>\n",
       "      <td>2.299952</td>\n",
       "      <td>1.782609</td>\n",
       "      <td>1.741419</td>\n",
       "      <td>2.822785</td>\n",
       "      <td>4.156762</td>\n",
       "      <td>1.233654</td>\n",
       "    </tr>\n",
       "    <tr>\n",
       "      <th>4</th>\n",
       "      <td>4.569484</td>\n",
       "      <td>2.733269</td>\n",
       "      <td>1.586957</td>\n",
       "      <td>5.661327</td>\n",
       "      <td>4.816456</td>\n",
       "      <td>4.448473</td>\n",
       "      <td>1.203102</td>\n",
       "    </tr>\n",
       "    <tr>\n",
       "      <th>7</th>\n",
       "      <td>5.706304</td>\n",
       "      <td>2.299952</td>\n",
       "      <td>1.978261</td>\n",
       "      <td>7.260870</td>\n",
       "      <td>2.993671</td>\n",
       "      <td>4.029666</td>\n",
       "      <td>1.037793</td>\n",
       "    </tr>\n",
       "    <tr>\n",
       "      <th>9</th>\n",
       "      <td>7.870344</td>\n",
       "      <td>7.062109</td>\n",
       "      <td>2.760870</td>\n",
       "      <td>2.963387</td>\n",
       "      <td>3.392405</td>\n",
       "      <td>6.558216</td>\n",
       "      <td>1.079234</td>\n",
       "    </tr>\n",
       "    <tr>\n",
       "      <th>11</th>\n",
       "      <td>6.813037</td>\n",
       "      <td>1.433317</td>\n",
       "      <td>2.369565</td>\n",
       "      <td>2.276888</td>\n",
       "      <td>2.338608</td>\n",
       "      <td>3.032671</td>\n",
       "      <td>1.098264</td>\n",
       "    </tr>\n",
       "    <tr>\n",
       "      <th>12</th>\n",
       "      <td>5.469914</td>\n",
       "      <td>2.299952</td>\n",
       "      <td>2.702174</td>\n",
       "      <td>2.695652</td>\n",
       "      <td>8.376582</td>\n",
       "      <td>3.042850</td>\n",
       "      <td>3.027355</td>\n",
       "    </tr>\n",
       "    <tr>\n",
       "      <th>15</th>\n",
       "      <td>7.704871</td>\n",
       "      <td>5.796822</td>\n",
       "      <td>1.978261</td>\n",
       "      <td>1.885584</td>\n",
       "      <td>8.661392</td>\n",
       "      <td>5.506253</td>\n",
       "      <td>1.290038</td>\n",
       "    </tr>\n",
       "    <tr>\n",
       "      <th>22</th>\n",
       "      <td>6.340258</td>\n",
       "      <td>1.433317</td>\n",
       "      <td>1.586957</td>\n",
       "      <td>5.173913</td>\n",
       "      <td>3.193038</td>\n",
       "      <td>2.964033</td>\n",
       "      <td>1.269298</td>\n",
       "    </tr>\n",
       "    <tr>\n",
       "      <th>25</th>\n",
       "      <td>4.442693</td>\n",
       "      <td>1.433317</td>\n",
       "      <td>1.586957</td>\n",
       "      <td>2.187643</td>\n",
       "      <td>6.439873</td>\n",
       "      <td>3.110616</td>\n",
       "      <td>1.761074</td>\n",
       "    </tr>\n",
       "    <tr>\n",
       "      <th>27</th>\n",
       "      <td>5.201289</td>\n",
       "      <td>1.433317</td>\n",
       "      <td>1.586957</td>\n",
       "      <td>2.640732</td>\n",
       "      <td>2.566456</td>\n",
       "      <td>5.655162</td>\n",
       "      <td>2.265007</td>\n",
       "    </tr>\n",
       "  </tbody>\n",
       "</table>\n",
       "</div>"
      ],
      "text/plain": [
       "          X1        X2        X3        Z1        Z2         A         B\n",
       "1   4.954155  2.299952  1.782609  1.741419  2.822785  4.156762  1.233654\n",
       "4   4.569484  2.733269  1.586957  5.661327  4.816456  4.448473  1.203102\n",
       "7   5.706304  2.299952  1.978261  7.260870  2.993671  4.029666  1.037793\n",
       "9   7.870344  7.062109  2.760870  2.963387  3.392405  6.558216  1.079234\n",
       "11  6.813037  1.433317  2.369565  2.276888  2.338608  3.032671  1.098264\n",
       "12  5.469914  2.299952  2.702174  2.695652  8.376582  3.042850  3.027355\n",
       "15  7.704871  5.796822  1.978261  1.885584  8.661392  5.506253  1.290038\n",
       "22  6.340258  1.433317  1.586957  5.173913  3.193038  2.964033  1.269298\n",
       "25  4.442693  1.433317  1.586957  2.187643  6.439873  3.110616  1.761074\n",
       "27  5.201289  1.433317  1.586957  2.640732  2.566456  5.655162  2.265007"
      ]
     },
     "execution_count": 22,
     "metadata": {},
     "output_type": "execute_result"
    }
   ],
   "source": [
    "X[labels==1]"
   ]
  },
  {
   "cell_type": "code",
   "execution_count": null,
   "id": "b5928fe4-a5b4-49d1-a815-d62a5548d8e7",
   "metadata": {},
   "outputs": [],
   "source": []
  },
  {
   "cell_type": "code",
   "execution_count": 38,
   "id": "9c43f8fe-de0a-471a-8591-524d7097b51e",
   "metadata": {
    "tags": []
   },
   "outputs": [
    {
     "data": {
      "image/png": "[encoded data removed]",
      "text/plain": [
       "<Figure size 1200x800 with 1 Axes>"
      ]
     },
     "metadata": {},
     "output_type": "display_data"
    }
   ],
   "source": [
    "import numpy as np\n",
    "import pandas as pd\n",
    "import matplotlib.pyplot as plt\n",
    "from mpl_toolkits.mplot3d import Axes3D\n",
    "from sklearn.decomposition import PCA\n",
    "\n",
    "# Function to randomly initialize centroids\n",
    "def random_centroids(X, k):\n",
    "    return X.sample(n=k).values  # Randomly sample k centroids\n",
    "\n",
    "# Function to calculate the labels based on the nearest centroid\n",
    "def get_labels(X, centroids):\n",
    "    # Calculate Euclidean distance between each point and centroids\n",
    "    distances = np.linalg.norm(X.values[:, None] - centroids, axis=2)\n",
    "    return np.argmin(distances, axis=1)\n",
    "\n",
    "# Function to calculate new centroids (mean of the data points in each cluster)\n",
    "def new_centroids(X, labels, k):\n",
    "    return X.groupby(labels).mean().values  # Return centroids as NumPy array\n",
    "\n",
    "# Function to plot clusters in 3D\n",
    "def plot_clusters_3d(X, labels, centroids, iteration):\n",
    "    # Perform PCA to reduce data to 3 components\n",
    "    pca = PCA(n_components=3)\n",
    "    X_pca = pca.fit_transform(X)\n",
    "\n",
    "    # Create a 3D plot\n",
    "    fig = plt.figure(figsize=(12, 8))\n",
    "    ax = fig.add_subplot(111, projection='3d')\n",
    "\n",
    "    # Plot data points with labels (colors will be based on cluster labels)\n",
    "    ax.scatter(X_pca[:, 0], X_pca[:, 1], X_pca[:, 2], c=labels, cmap='viridis', s=50, alpha=0.6)\n",
    "\n",
    "    # Convert centroids to NumPy array for 3D plotting\n",
    "    centroids = np.array(centroids)\n",
    "\n",
    "    clear_output(wait=True)\n",
    "\n",
    "    # Plot centroids\n",
    "    ax.scatter(centroids[:, 0], centroids[:, 1], centroids[:, 2], s=300, c='red', marker='X', label='Centroids')\n",
    "\n",
    "    # Set labels and title\n",
    "    ax.set_xlabel('Principal Component 1')\n",
    "    ax.set_ylabel('Principal Component 2')\n",
    "    ax.set_zlabel('Principal Component 3')\n",
    "    ax.set_title(f'Iteration {iteration} - 3D Clusters')\n",
    "\n",
    "    # Show legend\n",
    "    ax.legend()\n",
    "    \n",
    "    # Show plot\n",
    "    plt.show()\n",
    "\n",
    "# Main loop for clustering\n",
    "max_iterations = 100\n",
    "k = 4\n",
    "  # Example dataset\n",
    "\n",
    "centroids = random_centroids(X, k)\n",
    "old_centroids = pd.DataFrame()\n",
    "iteration = 1\n",
    "\n",
    "while (iteration < max_iterations) and not np.array_equal(centroids, old_centroids):\n",
    "    old_centroids = centroids\n",
    "    \n",
    "    labels = get_labels(X, centroids)\n",
    "    centroids = new_centroids(X, labels, k)\n",
    "    \n",
    "    # Plot clusters in 3D for the current iteration\n",
    "    plot_clusters_3d(X, labels, centroids, iteration)\n",
    "    \n",
    "    iteration += 1"
   ]
  },
  {
   "cell_type": "code",
   "execution_count": null,
   "id": "8ec20f6b-c165-4b32-9675-a949a7e957bf",
   "metadata": {},
   "outputs": [],
   "source": []
  }
 ],
 "metadata": {
  "availableInstances": [
   {
    "_defaultOrder": 0,
    "_isFastLaunch": true,
    "category": "General purpose",
    "gpuNum": 0,
    "hideHardwareSpecs": false,
    "memoryGiB": 4,
    "name": "ml.t3.medium",
    "vcpuNum": 2
   },
   {
    "_defaultOrder": 1,
    "_isFastLaunch": false,
    "category": "General purpose",
    "gpuNum": 0,
    "hideHardwareSpecs": false,
    "memoryGiB": 8,
    "name": "ml.t3.large",
    "vcpuNum": 2
   },
   {
    "_defaultOrder": 2,
    "_isFastLaunch": false,
    "category": "General purpose",
    "gpuNum": 0,
    "hideHardwareSpecs": false,
    "memoryGiB": 16,
    "name": "ml.t3.xlarge",
    "vcpuNum": 4
   },
   {
    "_defaultOrder": 3,
    "_isFastLaunch": false,
    "category": "General purpose",
    "gpuNum": 0,
    "hideHardwareSpecs": false,
    "memoryGiB": 32,
    "name": "ml.t3.2xlarge",
    "vcpuNum": 8
   },
   {
    "_defaultOrder": 4,
    "_isFastLaunch": true,
    "category": "General purpose",
    "gpuNum": 0,
    "hideHardwareSpecs": false,
    "memoryGiB": 8,
    "name": "ml.m5.large",
    "vcpuNum": 2
   },
   {
    "_defaultOrder": 5,
    "_isFastLaunch": false,
    "category": "General purpose",
    "gpuNum": 0,
    "hideHardwareSpecs": false,
    "memoryGiB": 16,
    "name": "ml.m5.xlarge",
    "vcpuNum": 4
   },
   {
    "_defaultOrder": 6,
    "_isFastLaunch": false,
    "category": "General purpose",
    "gpuNum": 0,
    "hideHardwareSpecs": false,
    "memoryGiB": 32,
    "name": "ml.m5.2xlarge",
    "vcpuNum": 8
   },
   {
    "_defaultOrder": 7,
    "_isFastLaunch": false,
    "category": "General purpose",
    "gpuNum": 0,
    "hideHardwareSpecs": false,
    "memoryGiB": 64,
    "name": "ml.m5.4xlarge",
    "vcpuNum": 16
   },
   {
    "_defaultOrder": 8,
    "_isFastLaunch": false,
    "category": "General purpose",
    "gpuNum": 0,
    "hideHardwareSpecs": false,
    "memoryGiB": 128,
    "name": "ml.m5.8xlarge",
    "vcpuNum": 32
   },
   {
    "_defaultOrder": 9,
    "_isFastLaunch": false,
    "category": "General purpose",
    "gpuNum": 0,
    "hideHardwareSpecs": false,
    "memoryGiB": 192,
    "name": "ml.m5.12xlarge",
    "vcpuNum": 48
   },
   {
    "_defaultOrder": 10,
    "_isFastLaunch": false,
    "category": "General purpose",
    "gpuNum": 0,
    "hideHardwareSpecs": false,
    "memoryGiB": 256,
    "name": "ml.m5.16xlarge",
    "vcpuNum": 64
   },
   {
    "_defaultOrder": 11,
    "_isFastLaunch": false,
    "category": "General purpose",
    "gpuNum": 0,
    "hideHardwareSpecs": false,
    "memoryGiB": 384,
    "name": "ml.m5.24xlarge",
    "vcpuNum": 96
   },
   {
    "_defaultOrder": 12,
    "_isFastLaunch": false,
    "category": "General purpose",
    "gpuNum": 0,
    "hideHardwareSpecs": false,
    "memoryGiB": 8,
    "name": "ml.m5d.large",
    "vcpuNum": 2
   },
   {
    "_defaultOrder": 13,
    "_isFastLaunch": false,
    "category": "General purpose",
    "gpuNum": 0,
    "hideHardwareSpecs": false,
    "memoryGiB": 16,
    "name": "ml.m5d.xlarge",
    "vcpuNum": 4
   },
   {
    "_defaultOrder": 14,
    "_isFastLaunch": false,
    "category": "General purpose",
    "gpuNum": 0,
    "hideHardwareSpecs": false,
    "memoryGiB": 32,
    "name": "ml.m5d.2xlarge",
    "vcpuNum": 8
   },
   {
    "_defaultOrder": 15,
    "_isFastLaunch": false,
    "category": "General purpose",
    "gpuNum": 0,
    "hideHardwareSpecs": false,
    "memoryGiB": 64,
    "name": "ml.m5d.4xlarge",
    "vcpuNum": 16
   },
   {
    "_defaultOrder": 16,
    "_isFastLaunch": false,
    "category": "General purpose",
    "gpuNum": 0,
    "hideHardwareSpecs": false,
    "memoryGiB": 128,
    "name": "ml.m5d.8xlarge",
    "vcpuNum": 32
   },
   {
    "_defaultOrder": 17,
    "_isFastLaunch": false,
    "category": "General purpose",
    "gpuNum": 0,
    "hideHardwareSpecs": false,
    "memoryGiB": 192,
    "name": "ml.m5d.12xlarge",
    "vcpuNum": 48
   },
   {
    "_defaultOrder": 18,
    "_isFastLaunch": false,
    "category": "General purpose",
    "gpuNum": 0,
    "hideHardwareSpecs": false,
    "memoryGiB": 256,
    "name": "ml.m5d.16xlarge",
    "vcpuNum": 64
   },
   {
    "_defaultOrder": 19,
    "_isFastLaunch": false,
    "category": "General purpose",
    "gpuNum": 0,
    "hideHardwareSpecs": false,
    "memoryGiB": 384,
    "name": "ml.m5d.24xlarge",
    "vcpuNum": 96
   },
   {
    "_defaultOrder": 20,
    "_isFastLaunch": false,
    "category": "General purpose",
    "gpuNum": 0,
    "hideHardwareSpecs": true,
    "memoryGiB": 0,
    "name": "ml.geospatial.interactive",
    "supportedImageNames": [
     "sagemaker-geospatial-v1-0"
    ],
    "vcpuNum": 0
   },
   {
    "_defaultOrder": 21,
    "_isFastLaunch": true,
    "category": "Compute optimized",
    "gpuNum": 0,
    "hideHardwareSpecs": false,
    "memoryGiB": 4,
    "name": "ml.c5.large",
    "vcpuNum": 2
   },
   {
    "_defaultOrder": 22,
    "_isFastLaunch": false,
    "category": "Compute optimized",
    "gpuNum": 0,
    "hideHardwareSpecs": false,
    "memoryGiB": 8,
    "name": "ml.c5.xlarge",
    "vcpuNum": 4
   },
   {
    "_defaultOrder": 23,
    "_isFastLaunch": false,
    "category": "Compute optimized",
    "gpuNum": 0,
    "hideHardwareSpecs": false,
    "memoryGiB": 16,
    "name": "ml.c5.2xlarge",
    "vcpuNum": 8
   },
   {
    "_defaultOrder": 24,
    "_isFastLaunch": false,
    "category": "Compute optimized",
    "gpuNum": 0,
    "hideHardwareSpecs": false,
    "memoryGiB": 32,
    "name": "ml.c5.4xlarge",
    "vcpuNum": 16
   },
   {
    "_defaultOrder": 25,
    "_isFastLaunch": false,
    "category": "Compute optimized",
    "gpuNum": 0,
    "hideHardwareSpecs": false,
    "memoryGiB": 72,
    "name": "ml.c5.9xlarge",
    "vcpuNum": 36
   },
   {
    "_defaultOrder": 26,
    "_isFastLaunch": false,
    "category": "Compute optimized",
    "gpuNum": 0,
    "hideHardwareSpecs": false,
    "memoryGiB": 96,
    "name": "ml.c5.12xlarge",
    "vcpuNum": 48
   },
   {
    "_defaultOrder": 27,
    "_isFastLaunch": false,
    "category": "Compute optimized",
    "gpuNum": 0,
    "hideHardwareSpecs": false,
    "memoryGiB": 144,
    "name": "ml.c5.18xlarge",
    "vcpuNum": 72
   },
   {
    "_defaultOrder": 28,
    "_isFastLaunch": false,
    "category": "Compute optimized",
    "gpuNum": 0,
    "hideHardwareSpecs": false,
    "memoryGiB": 192,
    "name": "ml.c5.24xlarge",
    "vcpuNum": 96
   },
   {
    "_defaultOrder": 29,
    "_isFastLaunch": true,
    "category": "Accelerated computing",
    "gpuNum": 1,
    "hideHardwareSpecs": false,
    "memoryGiB": 16,
    "name": "ml.g4dn.xlarge",
    "vcpuNum": 4
   },
   {
    "_defaultOrder": 30,
    "_isFastLaunch": false,
    "category": "Accelerated computing",
    "gpuNum": 1,
    "hideHardwareSpecs": false,
    "memoryGiB": 32,
    "name": "ml.g4dn.2xlarge",
    "vcpuNum": 8
   },
   {
    "_defaultOrder": 31,
    "_isFastLaunch": false,
    "category": "Accelerated computing",
    "gpuNum": 1,
    "hideHardwareSpecs": false,
    "memoryGiB": 64,
    "name": "ml.g4dn.4xlarge",
    "vcpuNum": 16
   },
   {
    "_defaultOrder": 32,
    "_isFastLaunch": false,
    "category": "Accelerated computing",
    "gpuNum": 1,
    "hideHardwareSpecs": false,
    "memoryGiB": 128,
    "name": "ml.g4dn.8xlarge",
    "vcpuNum": 32
   },
   {
    "_defaultOrder": 33,
    "_isFastLaunch": false,
    "category": "Accelerated computing",
    "gpuNum": 4,
    "hideHardwareSpecs": false,
    "memoryGiB": 192,
    "name": "ml.g4dn.12xlarge",
    "vcpuNum": 48
   },
   {
    "_defaultOrder": 34,
    "_isFastLaunch": false,
    "category": "Accelerated computing",
    "gpuNum": 1,
    "hideHardwareSpecs": false,
    "memoryGiB": 256,
    "name": "ml.g4dn.16xlarge",
    "vcpuNum": 64
   },
   {
    "_defaultOrder": 35,
    "_isFastLaunch": false,
    "category": "Accelerated computing",
    "gpuNum": 1,
    "hideHardwareSpecs": false,
    "memoryGiB": 61,
    "name": "ml.p3.2xlarge",
    "vcpuNum": 8
   },
   {
    "_defaultOrder": 36,
    "_isFastLaunch": false,
    "category": "Accelerated computing",
    "gpuNum": 4,
    "hideHardwareSpecs": false,
    "memoryGiB": 244,
    "name": "ml.p3.8xlarge",
    "vcpuNum": 32
   },
   {
    "_defaultOrder": 37,
    "_isFastLaunch": false,
    "category": "Accelerated computing",
    "gpuNum": 8,
    "hideHardwareSpecs": false,
    "memoryGiB": 488,
    "name": "ml.p3.16xlarge",
    "vcpuNum": 64
   },
   {
    "_defaultOrder": 38,
    "_isFastLaunch": false,
    "category": "Accelerated computing",
    "gpuNum": 8,
    "hideHardwareSpecs": false,
    "memoryGiB": 768,
    "name": "ml.p3dn.24xlarge",
    "vcpuNum": 96
   },
   {
    "_defaultOrder": 39,
    "_isFastLaunch": false,
    "category": "Memory Optimized",
    "gpuNum": 0,
    "hideHardwareSpecs": false,
    "memoryGiB": 16,
    "name": "ml.r5.large",
    "vcpuNum": 2
   },
   {
    "_defaultOrder": 40,
    "_isFastLaunch": false,
    "category": "Memory Optimized",
    "gpuNum": 0,
    "hideHardwareSpecs": false,
    "memoryGiB": 32,
    "name": "ml.r5.xlarge",
    "vcpuNum": 4
   },
   {
    "_defaultOrder": 41,
    "_isFastLaunch": false,
    "category": "Memory Optimized",
    "gpuNum": 0,
    "hideHardwareSpecs": false,
    "memoryGiB": 64,
    "name": "ml.r5.2xlarge",
    "vcpuNum": 8
   },
   {
    "_defaultOrder": 42,
    "_isFastLaunch": false,
    "category": "Memory Optimized",
    "gpuNum": 0,
    "hideHardwareSpecs": false,
    "memoryGiB": 128,
    "name": "ml.r5.4xlarge",
    "vcpuNum": 16
   },
   {
    "_defaultOrder": 43,
    "_isFastLaunch": false,
    "category": "Memory Optimized",
    "gpuNum": 0,
    "hideHardwareSpecs": false,
    "memoryGiB": 256,
    "name": "ml.r5.8xlarge",
    "vcpuNum": 32
   },
   {
    "_defaultOrder": 44,
    "_isFastLaunch": false,
    "category": "Memory Optimized",
    "gpuNum": 0,
    "hideHardwareSpecs": false,
    "memoryGiB": 384,
    "name": "ml.r5.12xlarge",
    "vcpuNum": 48
   },
   {
    "_defaultOrder": 45,
    "_isFastLaunch": false,
    "category": "Memory Optimized",
    "gpuNum": 0,
    "hideHardwareSpecs": false,
    "memoryGiB": 512,
    "name": "ml.r5.16xlarge",
    "vcpuNum": 64
   },
   {
    "_defaultOrder": 46,
    "_isFastLaunch": false,
    "category": "Memory Optimized",
    "gpuNum": 0,
    "hideHardwareSpecs": false,
    "memoryGiB": 768,
    "name": "ml.r5.24xlarge",
    "vcpuNum": 96
   },
   {
    "_defaultOrder": 47,
    "_isFastLaunch": false,
    "category": "Accelerated computing",
    "gpuNum": 1,
    "hideHardwareSpecs": false,
    "memoryGiB": 16,
    "name": "ml.g5.xlarge",
    "vcpuNum": 4
   },
   {
    "_defaultOrder": 48,
    "_isFastLaunch": false,
    "category": "Accelerated computing",
    "gpuNum": 1,
    "hideHardwareSpecs": false,
    "memoryGiB": 32,
    "name": "ml.g5.2xlarge",
    "vcpuNum": 8
   },
   {
    "_defaultOrder": 49,
    "_isFastLaunch": false,
    "category": "Accelerated computing",
    "gpuNum": 1,
    "hideHardwareSpecs": false,
    "memoryGiB": 64,
    "name": "ml.g5.4xlarge",
    "vcpuNum": 16
   },
   {
    "_defaultOrder": 50,
    "_isFastLaunch": false,
    "category": "Accelerated computing",
    "gpuNum": 1,
    "hideHardwareSpecs": false,
    "memoryGiB": 128,
    "name": "ml.g5.8xlarge",
    "vcpuNum": 32
   },
   {
    "_defaultOrder": 51,
    "_isFastLaunch": false,
    "category": "Accelerated computing",
    "gpuNum": 1,
    "hideHardwareSpecs": false,
    "memoryGiB": 256,
    "name": "ml.g5.16xlarge",
    "vcpuNum": 64
   },
   {
    "_defaultOrder": 52,
    "_isFastLaunch": false,
    "category": "Accelerated computing",
    "gpuNum": 4,
    "hideHardwareSpecs": false,
    "memoryGiB": 192,
    "name": "ml.g5.12xlarge",
    "vcpuNum": 48
   },
   {
    "_defaultOrder": 53,
    "_isFastLaunch": false,
    "category": "Accelerated computing",
    "gpuNum": 4,
    "hideHardwareSpecs": false,
    "memoryGiB": 384,
    "name": "ml.g5.24xlarge",
    "vcpuNum": 96
   },
   {
    "_defaultOrder": 54,
    "_isFastLaunch": false,
    "category": "Accelerated computing",
    "gpuNum": 8,
    "hideHardwareSpecs": false,
    "memoryGiB": 768,
    "name": "ml.g5.48xlarge",
    "vcpuNum": 192
   },
   {
    "_defaultOrder": 55,
    "_isFastLaunch": false,
    "category": "Accelerated computing",
    "gpuNum": 8,
    "hideHardwareSpecs": false,
    "memoryGiB": 1152,
    "name": "ml.p4d.24xlarge",
    "vcpuNum": 96
   },
   {
    "_defaultOrder": 56,
    "_isFastLaunch": false,
    "category": "Accelerated computing",
    "gpuNum": 8,
    "hideHardwareSpecs": false,
    "memoryGiB": 1152,
    "name": "ml.p4de.24xlarge",
    "vcpuNum": 96
   },
   {
    "_defaultOrder": 57,
    "_isFastLaunch": false,
    "category": "Accelerated computing",
    "gpuNum": 0,
    "hideHardwareSpecs": false,
    "memoryGiB": 32,
    "name": "ml.trn1.2xlarge",
    "vcpuNum": 8
   },
   {
    "_defaultOrder": 58,
    "_isFastLaunch": false,
    "category": "Accelerated computing",
    "gpuNum": 0,
    "hideHardwareSpecs": false,
    "memoryGiB": 512,
    "name": "ml.trn1.32xlarge",
    "vcpuNum": 128
   },
   {
    "_defaultOrder": 59,
    "_isFastLaunch": false,
    "category": "Accelerated computing",
    "gpuNum": 0,
    "hideHardwareSpecs": false,
    "memoryGiB": 512,
    "name": "ml.trn1n.32xlarge",
    "vcpuNum": 128
   }
  ],
  "instance_type": "ml.c5.9xlarge",
  "kernelspec": {
   "display_name": "base",
   "language": "python",
   "name": "python3"
  },
  "language_info": {
   "codemirror_mode": {
    "name": "ipython",
    "version": 3
   },
   "file_extension": ".py",
   "mimetype": "text/x-python",
   "name": "python",
   "nbconvert_exporter": "python",
   "pygments_lexer": "ipython3",
   "version": "3.11.5"
  }
 },
 "nbformat": 4,
 "nbformat_minor": 5
}
