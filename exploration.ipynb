{
 "cells": [
  {
   "cell_type": "markdown",
   "metadata": {},
   "source": [
    "# Data Clustering and Predictive Modeling Project\n",
    "\n",
    "## Objective\n",
    "This project aims to:\n",
    "1. Cluster data into 3 or 4 groups based on covariates and analyze their relationships with the outcome variable \\( y \\).\n",
    "2. Develop a predictive function \\( \\hat{y} \\) to approximate \\( y \\) more effectively, as \\( y \\) is poorly described.\n",
    "\n",
    "---\n",
    "\n",
    "## Dataset Overview\n",
    "- **Outcome Variable (y):** The target variable; \\( y = 0 \\) rows are filtered out.\n",
    "- **Covariates:**\n",
    "  - \\( X1, X2, X3 \\): Measure similar aspects.\n",
    "  - \\( Z1, Z2 \\): Measure another aspect but are closely related.\n",
    "  - \\( A \\): Represents a distinct attribute.\n",
    "  - \\( B \\): Represents another distinct attribute.\n"
   ]
  },
  {
   "cell_type": "code",
   "execution_count": null,
   "metadata": {
    "vscode": {
     "languageId": "plaintext"
    }
   },
   "outputs": [],
   "source": []
  }
 ],
 "metadata": {
  "language_info": {
   "name": "python"
  }
 },
 "nbformat": 4,
 "nbformat_minor": 2
}
